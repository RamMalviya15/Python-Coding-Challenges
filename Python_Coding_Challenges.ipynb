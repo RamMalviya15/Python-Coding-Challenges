{
  "cells": [
    {
      "cell_type": "markdown",
      "metadata": {
        "id": "view-in-github",
        "colab_type": "text"
      },
      "source": [
        "<a href=\"https://colab.research.google.com/github/RamMalviya15/Python-Coding-Challenges/blob/main/Python_Coding_Challenges.ipynb\" target=\"_parent\"><img src=\"https://colab.research.google.com/assets/colab-badge.svg\" alt=\"Open In Colab\"/></a>"
      ]
    },
    {
      "cell_type": "markdown",
      "source": [
        "# **About the Project:**\n",
        "\n",
        "Python Coding Challenges is designed to evaluate understanding and practical application of fundamental programming concepts using Python. This assessment encompasses various topics, including data types, indexing, slicing, operators, in-built functions, statements, conditionals, loops, object-oriented programming, and exception handling.\n"
      ],
      "metadata": {
        "id": "GgvP4jWEuxI_"
      }
    },
    {
      "cell_type": "markdown",
      "metadata": {
        "id": "rATVcbDa2pY_"
      },
      "source": [
        "# **Basic**"
      ]
    },
    {
      "cell_type": "markdown",
      "metadata": {
        "id": "dCSH8MhBRTW7"
      },
      "source": [
        "## Score Board Operator\n",
        "An operator working behind the scoreboard of a inter cohort AlmaBetter cricket tournament, is responsible for updating the scores and points of each team. However, the operator is currently facing a challenge. He has been tasked with updating the total number of points gained by Team London, but he does not possess the necessary programming skills to complete this task.\n",
        "According to the tournament's rules, teams are awarded the following points based on the outcome of a match:\n",
        "\n",
        "* wins: 3 points\n",
        "* draws: 1 point\n",
        "* losses: 0 points\n",
        "\n",
        "\n",
        "\n",
        "\n",
        "Team London has played **8 matches** in this tournament. They won **4 matches**, lost **3 matches** and **drew 1**.\n",
        "The operator is in need of assistance to calculate the total number of points earned by Team London. As a python expert adept with knowledge of integer, floats and boolean, you can help the operator by writing a solution for the following problem.\n",
        "\n",
        "What would your approach be?"
      ]
    },
    {
      "cell_type": "code",
      "execution_count": null,
      "metadata": {
        "id": "v8z41_rUgsJE"
      },
      "outputs": [],
      "source": [
        "#1. Define your fixed values:\n",
        "wins= 3\n",
        "draws = 1\n",
        "losses = 0\n",
        "total_wins = 4\n",
        "total_draws = 1\n",
        "total_losses = 3"
      ]
    },
    {
      "cell_type": "code",
      "execution_count": null,
      "metadata": {
        "id": "-kG6LhhJgsJl"
      },
      "outputs": [],
      "source": [
        "#2. Calculate the total points gained by Team London\n",
        "london_points = wins*total_wins + draws*total_draws + losses*total_losses"
      ]
    },
    {
      "cell_type": "code",
      "execution_count": null,
      "metadata": {
        "colab": {
          "base_uri": "https://localhost:8080/"
        },
        "id": "J8i6jnwngsJm",
        "outputId": "cbf1d281-b4fe-4d43-b170-498c4cdca42f"
      },
      "outputs": [
        {
          "name": "stdout",
          "output_type": "stream",
          "text": [
            "London points is 13\n"
          ]
        }
      ],
      "source": [
        "# 3. Print the variable london_points\n",
        "print(f\"London points is {london_points}\")"
      ]
    },
    {
      "cell_type": "markdown",
      "metadata": {
        "id": "qEICqapxUkVB"
      },
      "source": [
        "## Nutrition bar ingredient chart\n",
        "\n",
        "Imagine you are a data analyst at a nutrition bar manufacturing company. Your department head approaches you with a question. The company produces a nutrition bar that contains **45g of raisins, 65g of almonds, and 30g of apricots**. The head of the manufacturing department wants you to create an ingredient percentage list for the nutrition bar using python.\n",
        "\n",
        "Equipped with the knowledge of int, float and booleans in python, how would you approach this situation?"
      ]
    },
    {
      "cell_type": "code",
      "execution_count": null,
      "metadata": {
        "colab": {
          "base_uri": "https://localhost:8080/"
        },
        "id": "XJ9Rq4P3Del7",
        "outputId": "883f1752-ee9b-435a-d6a9-9371f563c66c"
      },
      "outputs": [
        {
          "name": "stdout",
          "output_type": "stream",
          "text": [
            "raisins percentage: 32.142857142857146\n"
          ]
        }
      ],
      "source": [
        "# Calculate the percentage of raisins and print the variable\n",
        "raisins= 45\n",
        "almonds= 65\n",
        "apricots=30\n",
        "raisins_percentage = raisins/(raisins+almonds+apricots) * 100\n",
        "print(f\"raisins percentage: {raisins_percentage}\")\n",
        "\n"
      ]
    },
    {
      "cell_type": "code",
      "execution_count": null,
      "metadata": {
        "colab": {
          "base_uri": "https://localhost:8080/"
        },
        "id": "S6lJZtaXDel9",
        "outputId": "e9a144e9-ccd0-499a-da98-1aee68f27e42"
      },
      "outputs": [
        {
          "name": "stdout",
          "output_type": "stream",
          "text": [
            "almonds percentage: 46.42857142857143\n"
          ]
        }
      ],
      "source": [
        "# Calculate the percentage of almonds and print the variable\n",
        "almonds_percentage = almonds/(raisins+almonds+apricots) * 100\n",
        "print(f\"almonds percentage: {almonds_percentage}\")\n"
      ]
    },
    {
      "cell_type": "code",
      "execution_count": null,
      "metadata": {
        "colab": {
          "base_uri": "https://localhost:8080/"
        },
        "id": "mHzMnSZrDemB",
        "outputId": "8e608ce0-029e-44eb-80e5-762e2f042fbb"
      },
      "outputs": [
        {
          "name": "stdout",
          "output_type": "stream",
          "text": [
            "apricots percentage: 21.428571428571427\n"
          ]
        }
      ],
      "source": [
        "# Calculate the percentage of apricots and print the variable\n",
        "apricots_percentage = apricots/(raisins+almonds+apricots) * 100\n",
        "print(f\"apricots percentage: {apricots_percentage}\")\n"
      ]
    },
    {
      "cell_type": "markdown",
      "metadata": {
        "id": "9Y3kSoUHVOGj"
      },
      "source": [
        "## Measuring the Accuracy of a Disease Detection Model- Optional\n",
        "\n",
        "If you're not impressed with these usecases yet, understand that you're just getting started with python. Going forward as a data scientist, you'll be using what you've learned to design machine learning models that just might even save lives!!\n",
        "\n",
        "Let's say you have created a machine learning model to detect diseases in patients based on their symptoms and medical history. The model has been tested on a dataset of **100 patients**, including **30 with diabetes**, **45 with heart disease**, and **25 with cancer**.\n",
        "The model's performance was evaluated in three rounds.\n",
        "In the first round, the model correctly **detected diabetes in 25 out of the 30 patients** with the disease.\n",
        "In the second round, the model correctly detected **heart disease in 35 out of the 45 patients** with the disease.\n",
        "In the final round, the model correctly **detected cancer in 20 out of the 25 patients** with the disease.\n",
        "\n",
        "The model's accuracy is defined as the percentage of correctly detected cases out of the total number of patient\n",
        "\n",
        "Assess how accurate your model is across these 3 diseases.\n"
      ]
    },
    {
      "cell_type": "markdown",
      "metadata": {
        "id": "Eg_Or6GmDemI"
      },
      "source": [
        "#### Calculate your accuracy in each of the three cases"
      ]
    },
    {
      "cell_type": "code",
      "execution_count": null,
      "metadata": {
        "colab": {
          "base_uri": "https://localhost:8080/"
        },
        "id": "QUbDKOR3DemJ",
        "outputId": "eebf5180-06e2-41f6-fc43-6d333c819e1f"
      },
      "outputs": [
        {
          "name": "stdout",
          "output_type": "stream",
          "text": [
            "heart disease detection accuracy is 0.7777777777777778 \n"
          ]
        }
      ],
      "source": [
        "# Print the heart disease detection accuracy\n",
        "heart_disease_detection_accuracy = correctly_detected_heart_disease/heart_disease_patients\n",
        "print(f\"heart disease detection accuracy is {heart_disease_detection_accuracy} \")\n"
      ]
    },
    {
      "cell_type": "code",
      "execution_count": null,
      "metadata": {
        "colab": {
          "base_uri": "https://localhost:8080/"
        },
        "id": "PfX4DowhDemM",
        "outputId": "c9f410e8-61ef-4788-8721-6b7051f19da4"
      },
      "outputs": [
        {
          "name": "stdout",
          "output_type": "stream",
          "text": [
            "diabetes detection accuracy is 0.8333333333333334 \n"
          ]
        }
      ],
      "source": [
        "# Print the diabetes detection accuracy\n",
        "diabetes_detection_accuracy = correctly_detected_diabetes/diabetes_patients\n",
        "print(f\"diabetes detection accuracy is {diabetes_detection_accuracy} \")\n"
      ]
    },
    {
      "cell_type": "code",
      "execution_count": null,
      "metadata": {
        "colab": {
          "base_uri": "https://localhost:8080/"
        },
        "id": "ZV-hzGKCDemP",
        "outputId": "1d093707-286b-4881-b340-cdb6d605aa28"
      },
      "outputs": [
        {
          "name": "stdout",
          "output_type": "stream",
          "text": [
            "cancer detection accuracy is 0.8 \n"
          ]
        }
      ],
      "source": [
        "# Print the cancer detection accuracy\n",
        "cancer_detection_accuracy = correctly_detected_cancer/cancer_patients\n",
        "print(f\"cancer detection accuracy is {cancer_detection_accuracy} \")\n"
      ]
    },
    {
      "cell_type": "code",
      "execution_count": null,
      "metadata": {
        "colab": {
          "base_uri": "https://localhost:8080/"
        },
        "id": "eP3JkusLDemT",
        "outputId": "fcfcb138-85c2-4161-953a-85dc19ce6bb8"
      },
      "outputs": [
        {
          "name": "stdout",
          "output_type": "stream",
          "text": [
            "overall accuracy is 0.8 \n"
          ]
        }
      ],
      "source": [
        "# Print the overall accuracy of your model\n",
        "overall_accuracy = (correctly_detected_cancer+correctly_detected_diabetes+correctly_detected_heart_disease)/(cancer_patients+diabetes_patients+heart_disease_patients)\n",
        "print(f\"overall accuracy is {overall_accuracy} \")\n"
      ]
    },
    {
      "cell_type": "markdown",
      "metadata": {
        "id": "AzbS5w7QB28m"
      },
      "source": [
        "# **Data Types in Python**"
      ]
    },
    {
      "cell_type": "markdown",
      "metadata": {
        "id": "yKTqVryFxgP1"
      },
      "source": [
        "## Solving Algebra the Cool Way 😎"
      ]
    },
    {
      "cell_type": "markdown",
      "metadata": {
        "id": "_qhDAZQsSvPv"
      },
      "source": [
        "You must remember the algebraic equations and functions you came across during your school days. If you do, you also must remember how tedious it was to do solve them manually. 😫\n",
        "Consider a quadratic function:\n",
        "\n",
        "***f(x)=x^2+3x-4***\n",
        "\n",
        "Find the value of f(x) at x =3 , x=-2, and x=4\n",
        "\n",
        "Doing this manually like the old days would be a tedious job 😞. But now you have python at your disposal 🙂 !\n",
        "How would you approach this problem using what you have learned?\n"
      ]
    },
    {
      "cell_type": "code",
      "execution_count": null,
      "metadata": {
        "colab": {
          "base_uri": "https://localhost:8080/"
        },
        "id": "4_HZwes5Delh",
        "outputId": "1c128725-cdcc-407b-98ed-599450550900"
      },
      "outputs": [
        {
          "name": "stdout",
          "output_type": "stream",
          "text": [
            "func evaluated at 3: 14\n"
          ]
        }
      ],
      "source": [
        "# Calculate the value of the function f(x) at x = 3\n",
        "x = 3\n",
        "func_evaluated_at_3 = x**2+3*x-4\n",
        "print(f\"func evaluated at 3: {func_evaluated_at_3}\")\n"
      ]
    },
    {
      "cell_type": "code",
      "execution_count": null,
      "metadata": {
        "colab": {
          "base_uri": "https://localhost:8080/"
        },
        "id": "uD4MAyKIDelo",
        "outputId": "5ec42bfd-d487-4865-c42e-17960f990f88"
      },
      "outputs": [
        {
          "name": "stdout",
          "output_type": "stream",
          "text": [
            "func evaluated at minus2: -6\n"
          ]
        }
      ],
      "source": [
        "# Calculate the value of the function f(x) at x = -2\n",
        "x = -2\n",
        "func_evaluated_at_minus2 = x**2+3*x-4\n",
        "print(f\"func evaluated at minus2: {func_evaluated_at_minus2}\")"
      ]
    },
    {
      "cell_type": "code",
      "execution_count": null,
      "metadata": {
        "colab": {
          "base_uri": "https://localhost:8080/"
        },
        "id": "h8PgF85VDelu",
        "outputId": "7e103bee-15d3-48ad-a480-8d7cdf91c404"
      },
      "outputs": [
        {
          "name": "stdout",
          "output_type": "stream",
          "text": [
            "func evaluated at 4: 24\n"
          ]
        }
      ],
      "source": [
        "# Calculate the value of the function f(x) at x = 4\n",
        "x = 4\n",
        "func_evaluated_at_4 = x**2+3*x-4\n",
        "print(f\"func evaluated at 4: {func_evaluated_at_4}\")"
      ]
    },
    {
      "cell_type": "code",
      "execution_count": null,
      "metadata": {
        "colab": {
          "base_uri": "https://localhost:8080/"
        },
        "id": "ESCji5FY9x61",
        "outputId": "74c32a3a-be8f-408b-9ce4-b58930b838fd"
      },
      "outputs": [
        {
          "data": {
            "text/plain": [
              "True"
            ]
          },
          "execution_count": 36,
          "metadata": {},
          "output_type": "execute_result"
        }
      ],
      "source": [
        "#Check if func_evaluated_at_3 >= func_evaluated_at_minus2\n",
        "func_evaluated_at_3 >= func_evaluated_at_minus2\n",
        "\n"
      ]
    },
    {
      "cell_type": "code",
      "execution_count": null,
      "metadata": {
        "colab": {
          "base_uri": "https://localhost:8080/"
        },
        "id": "bZuIzWse94rT",
        "outputId": "95117a56-271e-4980-acc2-08d4ede8976f"
      },
      "outputs": [
        {
          "name": "stdout",
          "output_type": "stream",
          "text": [
            "False\n",
            "False\n",
            "False\n"
          ]
        }
      ],
      "source": [
        "#Check if value of f(x) at 3,-2 or 4 is equal to 0 or not\n",
        "print(func_evaluated_at_3 == 0)\n",
        "print(func_evaluated_at_minus2 == 0)\n",
        "print(func_evaluated_at_4 == 0)"
      ]
    },
    {
      "cell_type": "markdown",
      "metadata": {
        "id": "kyKx-MLZHsoh"
      },
      "source": [
        "## Finding total A's in the Bookshelves\n",
        "\n",
        "In your pursuit of expanding your knowledge of Python, you come across a bookstore in search of books on the subject.\n",
        "\n",
        "There, you meet a salesperson who is also a Python enthusiast!!\n",
        "\n",
        "The salesperson presents you with a challenge - they have a list of five books related to Python and if you can write a program that finds the count of letter 'e', the store will give you a free book of your choice. 😀\n",
        "\n",
        "Are you ready to accept the challenge? 💪"
      ]
    },
    {
      "cell_type": "code",
      "execution_count": null,
      "metadata": {
        "id": "iImDmkOZXRRP"
      },
      "outputs": [],
      "source": [
        "# Here's the list of books\n",
        "books = \"Python for Everyone, Learn Python the Hard Way, Python Crash Course , Starting Out with Python, Automate the Boring Stuff with Python\"\n"
      ]
    },
    {
      "cell_type": "code",
      "execution_count": null,
      "metadata": {
        "id": "-3HeaI3YXWQ1"
      },
      "outputs": [],
      "source": [
        "# Store the count of books containing A/a in the title. Note this will be a case insensitive search\n",
        "a_counts = books.count('a')\n",
        "\n",
        "A_counts = books.count('A')\n",
        "\n",
        "total_a_counts = a_counts + A_counts"
      ]
    },
    {
      "cell_type": "code",
      "execution_count": null,
      "metadata": {
        "colab": {
          "base_uri": "https://localhost:8080/"
        },
        "id": "KXUYgyjBXaCH",
        "outputId": "3c6193e7-1cfe-4b1f-fc53-d57a258a7854"
      },
      "outputs": [
        {
          "name": "stdout",
          "output_type": "stream",
          "text": [
            "The total number of 'a's in the list of books is 7\n"
          ]
        }
      ],
      "source": [
        "# Print the value\n",
        "print(f\"The total number of 'a's in the list of books is {total_a_counts}\")"
      ]
    },
    {
      "cell_type": "markdown",
      "metadata": {
        "id": "BUzHV9sfvemq"
      },
      "source": [
        "## Unleashing the Power of Mean in Exam Analysis"
      ]
    },
    {
      "cell_type": "markdown",
      "metadata": {
        "id": "JQOrvXKEwJgy"
      },
      "source": [
        "When analyzing exam scores, teachers have the power to unlock valuable insights into their students' performance. By using the mean and median, they can get a clear picture of how the class is doing as a whole and identify areas where improvement is needed.\n",
        "\n",
        "The mean score is like a report card for the entire class, showing the average of all exam scores. It gives a good general idea of how the class is doing but can be influenced by a few students with extremely high or low scores.\n",
        "\n",
        "By analysing the mean, teachers can get a complete picture of the class performance and make informed decisions to improve the learning experience for their students. So go ahead and use these powerful tools to take your students' exam scores to the next level! 💪"
      ]
    },
    {
      "cell_type": "code",
      "execution_count": null,
      "metadata": {
        "id": "qTEXZHBxwVP1"
      },
      "outputs": [],
      "source": [
        "# List of student marks\n",
        "\n",
        "marks = [67,87,75,46,89,97,68,98,87,88]"
      ]
    },
    {
      "cell_type": "code",
      "execution_count": null,
      "metadata": {
        "id": "9BpBKVXFw4Mg"
      },
      "outputs": [],
      "source": [
        "# Calculate the mean of the marks. Use sum() and len() functions\n",
        "mean_score = sum(marks)/len(marks)"
      ]
    },
    {
      "cell_type": "code",
      "execution_count": null,
      "metadata": {
        "colab": {
          "base_uri": "https://localhost:8080/"
        },
        "id": "XQ1cL8mCpfeS",
        "outputId": "c1d4a2db-5973-4574-95f5-a21afb6f7fb2"
      },
      "outputs": [
        {
          "name": "stdout",
          "output_type": "stream",
          "text": [
            "the mean of the score: 80.2\n"
          ]
        }
      ],
      "source": [
        "print(f\"the mean of the score: {mean_score}\")"
      ]
    },
    {
      "cell_type": "markdown",
      "metadata": {
        "id": "iOZMEc3KtdsM"
      },
      "source": [
        "\n",
        "## John's Fruit Stand Sales Mix-up\n",
        "\n",
        "You must remember from the previous lessons that dictionaries can be used to store values corresponding to a particular key. But how is this helpful to us?\n",
        "\n",
        "Let's look at this scenario:\n",
        "\n",
        "Jim owns a quaint little fruit stand that sells mangoes, bananas, apples, and pineapples. One day, with Jim being tied up, he tasked his son John to manage the shop for a day. Being new to the game, John recorded the sales data in an unconventional way. He wrote down the name of each fruit as many times as it was sold, creating a list like this:\n",
        "\n",
        "**['Mango','Mango','Mango','Pineapple','Pineapple','Pineapple','Apple','Mango','Banana','Apple','Banana','Apple','Pineapple','Apple','Apple','Pineapple','Pineapple']**\n",
        "🤦\n",
        "\n",
        "But, this method is not very efficient or easy to read.\n",
        "\n",
        "Forunately you were there at the shop to grab some apples yourselves, and you saw what John was doing.\n",
        "\n",
        "You can help him out to structure the data by using dictionaries. How?\n",
        "\n"
      ]
    },
    {
      "cell_type": "code",
      "execution_count": null,
      "metadata": {
        "id": "lqRlffflqcUg"
      },
      "outputs": [],
      "source": [
        "#Here's John's list:\n",
        "fruit_list=['Mango','Mango','Mango','Pineapple','Pineapple','Pineapple','Apple','Mango','Banana','Apple','Banana','Apple','Pineapple','Apple','Apple','Pineapple','Pineapple']"
      ]
    },
    {
      "cell_type": "code",
      "execution_count": null,
      "metadata": {
        "id": "zP1dXujAD_GA"
      },
      "outputs": [],
      "source": [
        "# Step 2: Create an empty dictionary which will contain the unique fruit names\n",
        "fruit_dict={}\n",
        "\n",
        "# Set the values for each key separately\n",
        "\n",
        "# First Key\n",
        "fruit_dict['Mango']= fruit_list.count('Mango')\n",
        "\n",
        "# Second Key\n",
        "fruit_dict['Pineapple']= fruit_list.count('Pineapple')\n",
        "\n",
        "# Third Key\n",
        "fruit_dict['Apple']= fruit_list.count('Apple')\n",
        "\n",
        "# Fourth Key\n",
        "fruit_dict['Banana']= fruit_list.count('Banana')"
      ]
    },
    {
      "cell_type": "code",
      "execution_count": null,
      "metadata": {
        "colab": {
          "base_uri": "https://localhost:8080/"
        },
        "id": "oy02z7prygYo",
        "outputId": "d1f18ed2-1e40-47bd-81ef-b3c56d5bddda"
      },
      "outputs": [
        {
          "name": "stdout",
          "output_type": "stream",
          "text": [
            "{'Mango': 4, 'Pineapple': 6, 'Apple': 5, 'Banana': 2}\n"
          ]
        }
      ],
      "source": [
        "print(fruit_dict)"
      ]
    },
    {
      "cell_type": "markdown",
      "metadata": {
        "id": "hw_eQmfUo8Ma"
      },
      "source": [
        "# **Indexing & Slicing**"
      ]
    },
    {
      "cell_type": "markdown",
      "metadata": {
        "id": "4xWhhMD7lFiO"
      },
      "source": [
        "## Imagine that you are a superhero movie buff and you're trying to create a list of the most iconic Marvel characters. You have compiled a list of some of the most popular characters, but you want to narrow it down to the top 6.\n",
        "\n",
        "Here's your list of characters:\n",
        "\n",
        "marvel_words = ['Avengers', 'X-Men', 'Spider-Man', 'Iron Man', 'Hulk', 'Thor', 'Black Widow', 'Captain America', 'Wolverine', 'Doctor Strange', 'Namor']\n"
      ]
    },
    {
      "cell_type": "code",
      "execution_count": null,
      "metadata": {
        "id": "wecbawDhmHhv"
      },
      "outputs": [],
      "source": [
        "# Here's your list of characters:\n",
        "\n",
        "marvel_words = ['Avengers', 'X-Men', 'Spider-Man', 'Iron Man', 'Hulk', 'Thor', 'Black Widow', 'Captain America', 'Wolverine', 'Doctor Strange', 'Namor']"
      ]
    },
    {
      "cell_type": "markdown",
      "metadata": {
        "id": "LCQe44-gwnxB"
      },
      "source": [
        "You want to narrow down the list to the last 6 characters in the list. These characters are:\n",
        "\n",
        "* Namor\n",
        "* Doctor Strange\n",
        "* Wolverine\n",
        "* Captain America\n",
        "* Black Widow\n",
        "* Thor\n",
        "\n",
        "\n",
        "\n"
      ]
    },
    {
      "cell_type": "markdown",
      "metadata": {
        "id": "ixSrQmeVwwYD"
      },
      "source": [
        "Write a code to slice these characters from the list"
      ]
    },
    {
      "cell_type": "code",
      "execution_count": null,
      "metadata": {
        "colab": {
          "base_uri": "https://localhost:8080/"
        },
        "id": "GF31Mwo2wmM7",
        "outputId": "3c79428e-6970-42fc-ed75-cbbf4960de39"
      },
      "outputs": [
        {
          "name": "stdout",
          "output_type": "stream",
          "text": [
            "['Namor', 'Doctor Strange', 'Wolverine', 'Captain America', 'Black Widow', 'Thor']\n"
          ]
        }
      ],
      "source": [
        "# Replace x with appropriate values\n",
        "new_marvel=marvel_words[-1:-7:-1]\n",
        "print(new_marvel)"
      ]
    },
    {
      "cell_type": "markdown",
      "metadata": {
        "id": "ExOuQaMiYSs7"
      },
      "source": [
        "## Create two teams of superheroes based on their index position: one team should consist of all the characters located at even index positions, while the other team should consist of all the characters located at odd index positions."
      ]
    },
    {
      "cell_type": "code",
      "execution_count": null,
      "metadata": {
        "colab": {
          "base_uri": "https://localhost:8080/"
        },
        "id": "FfV-JzekZBKd",
        "outputId": "41ab9f9a-9cd6-436e-f27a-b6e869cad792"
      },
      "outputs": [
        {
          "name": "stdout",
          "output_type": "stream",
          "text": [
            "team1: ['Avengers', 'Spider-Man', 'Hulk', 'Black Widow', 'Wolverine', 'Namor']\n",
            "team2: ['X-Men', 'Iron Man', 'Thor', 'Captain America', 'Doctor Strange']\n"
          ]
        }
      ],
      "source": [
        "team1=marvel_words[0::2]    #Add appropriate index and step size\n",
        "team2=marvel_words[1::2]\n",
        "print(f\"team1: {team1}\")\n",
        "print(f\"team2: {team2}\")"
      ]
    },
    {
      "cell_type": "markdown",
      "metadata": {
        "id": "-mQM5JHjm_pS"
      },
      "source": [
        "###3. Store the word 'Spider-Man' in a new variable, and slice the word 'Spider' from it."
      ]
    },
    {
      "cell_type": "code",
      "execution_count": null,
      "metadata": {
        "colab": {
          "base_uri": "https://localhost:8080/"
        },
        "id": "3umcx5a5m3Fn",
        "outputId": "8301ba20-3886-4058-b251-6be7c74947d7"
      },
      "outputs": [
        {
          "name": "stdout",
          "output_type": "stream",
          "text": [
            "Spider\n"
          ]
        }
      ],
      "source": [
        "spider_man=marvel_words[2] # Add appropriate index number\n",
        "spidey_sliced=spider_man[0:6] # Add appropriate index number\n",
        "print(spidey_sliced)\n"
      ]
    },
    {
      "cell_type": "markdown",
      "metadata": {
        "id": "K_QHunxknscj"
      },
      "source": [
        "###4. Store the word 'Iron-Man' in a variable and use reverse indexing to reverse it."
      ]
    },
    {
      "cell_type": "code",
      "execution_count": null,
      "metadata": {
        "colab": {
          "base_uri": "https://localhost:8080/"
        },
        "id": "LK5c5ELwqpvW",
        "outputId": "724372c3-0dd5-4e30-d747-85785e0aff4d"
      },
      "outputs": [
        {
          "name": "stdout",
          "output_type": "stream",
          "text": [
            "naM norI\n"
          ]
        }
      ],
      "source": [
        "#Your code here\n",
        "iron_man=marvel_words[3]\n",
        "reversed_man=iron_man[-1::-1]\n",
        "print(reversed_man)"
      ]
    },
    {
      "cell_type": "markdown",
      "metadata": {
        "id": "AaQqED-gt1Ij"
      },
      "source": [
        "# **Operators in Data Types**"
      ]
    },
    {
      "cell_type": "markdown",
      "metadata": {
        "id": "HNOkGnOhYRdb"
      },
      "source": [
        "\n",
        "## 🎉 Let's do some math!\n",
        "\n",
        "* 📐 First up, let's calculate the area of a square with sides that measure 5 cm. 🤔 How much space does this shape occupy?\n",
        "\n",
        "* 🔍 Next, let's find the volume of a cube with sides that measure 12 cm. 📏 How much room does this shape take up?\n",
        "\n",
        "* 🔢 Lastly, we'll find the quotient and remainder when we divide 10 by 4. 🧐 How many times does 4 fit into 10? What's left over?"
      ]
    },
    {
      "cell_type": "code",
      "execution_count": null,
      "metadata": {
        "colab": {
          "base_uri": "https://localhost:8080/"
        },
        "id": "JIBfHim7IrBG",
        "outputId": "577e7f2c-7bb9-487e-d6c4-69367548c313"
      },
      "outputs": [
        {
          "name": "stdout",
          "output_type": "stream",
          "text": [
            "remainder is: 2\n",
            "quotient is: 2.5\n",
            "vol_cube is: 1728\n",
            "ar_square is: 25\n"
          ]
        }
      ],
      "source": [
        "ar_square= 5*5\n",
        "vol_cube= 12**3\n",
        "quotient= 10/4\n",
        "remainder= 10%4\n",
        "\n",
        "print(f\"remainder is: {remainder}\")\n",
        "print(f\"quotient is: {quotient}\")\n",
        "print(f\"vol_cube is: {vol_cube}\")\n",
        "print(f\"ar_square is: {ar_square}\")"
      ]
    },
    {
      "cell_type": "markdown",
      "metadata": {
        "id": "nAX2nLAZWpKI"
      },
      "source": [
        "## 📚 Let's practice some comparison operators! Here's a problem for you to solve:\n",
        "\n",
        "🍎 The first basket contains 12 apples, and the second basket contains 8 apples. Use comparison operators to answer the following questions:\n",
        "\n",
        "* Is the number of apples in the first basket greater than the number of apples in the second basket?\n",
        "\n",
        "* Is the number of apples in the second basket less than or equal to the number of apples in the first basket?\n",
        "* Is the number of apples in the first basket equal to the number of apples in the second basket?\n",
        "* Is the number of apples in the second basket not equal to the number of apples in the first basket?\n",
        "\n",
        "Use comparison operators (i.e. >, >=, <, <=, ==, !=) in your code to answer each question. Good luck! 🍎🍏"
      ]
    },
    {
      "cell_type": "code",
      "execution_count": null,
      "metadata": {
        "colab": {
          "base_uri": "https://localhost:8080/"
        },
        "id": "-TsVx5cdWpKI",
        "outputId": "2cb23118-0f5d-4f37-fa61-e2aac3ef9996"
      },
      "outputs": [
        {
          "name": "stdout",
          "output_type": "stream",
          "text": [
            "True\n",
            "True\n",
            "False\n",
            "True\n"
          ]
        }
      ],
      "source": [
        "# Your code here\n",
        "basket1=12\n",
        "basket2=8\n",
        "print(basket1 > basket2)\n",
        "print(basket2 <= basket1)\n",
        "print(basket1 == basket2)\n",
        "print(basket2 != basket1)\n"
      ]
    },
    {
      "cell_type": "markdown",
      "metadata": {
        "id": "7_yNqud-j1TS"
      },
      "source": [
        "## 🌴 Are you ready for your trip to Goa? 🌊 You've got two bags with you, and you need to make sure they're light enough to board the flight. Let's use some logical operators to find out if you can make it on time!\n",
        "\n",
        "🧳 One of your bags weighs 15 kg, while the other one weighs only 5 kg. 💪 You know you can pack a lot more in the heavier bag, but you have to be careful not to go over the weight limit.\n",
        "\n",
        "👮‍♀️ The airline has a strict policy that both of your bags must weigh less than 13 kg each. Can you make it on the flight? Let's use logical operators to find out!"
      ]
    },
    {
      "cell_type": "code",
      "execution_count": null,
      "metadata": {
        "colab": {
          "base_uri": "https://localhost:8080/"
        },
        "id": "3S-wDvHbZYvx",
        "outputId": "4fd9bd67-4377-49b8-93ea-6319c15374f9"
      },
      "outputs": [
        {
          "name": "stdout",
          "output_type": "stream",
          "text": [
            "Sorry, You can not go through!\n"
          ]
        }
      ],
      "source": [
        "# Define the weight of your bags\n",
        "bag1_weight = 15\n",
        "bag2_weight = 5\n",
        "\n",
        "\n",
        "# Check if both bags weigh less than 13 kg\n",
        "if (bag1_weight < 13 and bag2_weight < 13):\n",
        "   print(\"Enjoy your trip!\")\n",
        "else:\n",
        "   print(\"Sorry, You can not go through!\")\n",
        "\n",
        "\n",
        "\n"
      ]
    },
    {
      "cell_type": "code",
      "execution_count": null,
      "metadata": {
        "id": "MVrOPAkTbRR0"
      },
      "outputs": [],
      "source": [
        "print(\"Sorry, You can not go through!\")"
      ]
    },
    {
      "cell_type": "markdown",
      "metadata": {
        "id": "DtX6Cv7EbVju"
      },
      "source": [
        "**OR**"
      ]
    },
    {
      "cell_type": "code",
      "execution_count": null,
      "metadata": {
        "id": "8sYJK9-EbXf6"
      },
      "outputs": [],
      "source": [
        "print(\"Enjoy your trip!\")"
      ]
    },
    {
      "cell_type": "markdown",
      "metadata": {
        "id": "bF2FQenhZZPq"
      },
      "source": [
        "🧳 Uh oh, it looks like we have a problem with our bags! But don't worry, the crew has offered a solution. 😊\n",
        "\n",
        "👨‍✈️ They've said that if at least one of our bags weighs less than 6 kg, we can still board the flight this time. 🛫\n",
        "\n",
        "🤔 Are we ready for the trip or not? Let's use some logical operators to find out!"
      ]
    },
    {
      "cell_type": "code",
      "execution_count": null,
      "metadata": {
        "colab": {
          "base_uri": "https://localhost:8080/"
        },
        "id": "7ndd_Gw3bhIz",
        "outputId": "29e1e185-9498-44f8-f459-d78e0047c590"
      },
      "outputs": [
        {
          "name": "stdout",
          "output_type": "stream",
          "text": [
            "Enjoy your trip!\n"
          ]
        }
      ],
      "source": [
        "# Define the weight of your bags\n",
        "bag1_weight = 15\n",
        "bag2_weight = 5\n",
        "\n",
        "# Check if at least one bag weighs less than 6 kg\n",
        "# If the result is False, print(\"Sorry, You can not go through!\")\n",
        "# Else, if the result is True, print(\"Enjoy your trip!\")\n",
        "\n",
        "if (bag1_weight < 6 or bag2_weight < 6):\n",
        "   print(\"Enjoy your trip!\")\n",
        "else:\n",
        "   print(\"Sorry, You can not go through!\")\n",
        "\n"
      ]
    },
    {
      "cell_type": "code",
      "execution_count": null,
      "metadata": {
        "id": "5j5SGIzgeIk-"
      },
      "outputs": [],
      "source": [
        "print(\"Sorry, You can not go through!\")"
      ]
    },
    {
      "cell_type": "markdown",
      "metadata": {
        "id": "ZLx7n7kMeIk_"
      },
      "source": [
        "**OR**"
      ]
    },
    {
      "cell_type": "code",
      "execution_count": null,
      "metadata": {
        "id": "HOm_dsLTeIk_"
      },
      "outputs": [],
      "source": [
        "print(\"Enjoy your trip!\")"
      ]
    },
    {
      "cell_type": "markdown",
      "metadata": {
        "id": "vqQMQs4geeYm"
      },
      "source": [
        "🤔 Did you notice how we made a decision on which print statement to use based on the result of our logical operators? 🤔\n",
        "\n",
        "🚀 Later on, we're going to learn how to do this in a single step, making it even easier for you. So stay curious 😎"
      ]
    },
    {
      "cell_type": "markdown",
      "metadata": {
        "id": "0yVUrg0NLnxz"
      },
      "source": [
        "## 📚 Imagine that you're a book lover with a collection of lot of books. 🤓\n",
        "\n",
        "🔎 You need to find out how many of your books contain the word \"Python\" in them. 🐍"
      ]
    },
    {
      "cell_type": "code",
      "execution_count": null,
      "metadata": {
        "id": "HE7i9PDDjSLB"
      },
      "outputs": [],
      "source": [
        "books = [\n",
        "    \"Python for Data Science Handbook by Jake VanderPlas\",\n",
        "    \"The Pragmatic Programmer by Andrew Hunt and David Thomas\",\n",
        "    \"Python Machine Learning by Sebastian Raschka\",\n",
        "    \"The Alchemist by Paulo Coelho\"\n",
        "]"
      ]
    },
    {
      "cell_type": "code",
      "execution_count": null,
      "metadata": {
        "colab": {
          "base_uri": "https://localhost:8080/"
        },
        "id": "tsmvcBHgjfPa",
        "outputId": "fc1a06c1-df8c-43d5-e0af-8c3478e65eb5"
      },
      "outputs": [
        {
          "name": "stdout",
          "output_type": "stream",
          "text": [
            "number of books contain the word Python in them: 2\n"
          ]
        }
      ],
      "source": [
        "count = 0\n",
        "for x in range(0,4):\n",
        " if \"Python\" in books[x] :     # Change x to 0,1,2 and 3.\n",
        "  count=count+1\n",
        "\n",
        "print(f\"number of books contain the word Python in them: {count}\")\n",
        "\n"
      ]
    },
    {
      "cell_type": "markdown",
      "metadata": {
        "id": "B80a_pgbGRll"
      },
      "source": [
        "# **In-Built Functions & Methods**"
      ]
    },
    {
      "cell_type": "markdown",
      "metadata": {
        "id": "rg1rF2AJqlrU"
      },
      "source": [
        "## Here is a string for you to work with:"
      ]
    },
    {
      "cell_type": "code",
      "execution_count": null,
      "metadata": {
        "id": "x5DsgVU5pYep"
      },
      "outputs": [],
      "source": [
        "# Here is the statement.\n",
        "\n",
        "statement = \"anas eagerly recommended 'the shawshank redemption' to his friends. He described the movie as a captivating and emotional story of hope and friendship. His friends decided to watch it together the following weekend.\""
      ]
    },
    {
      "cell_type": "code",
      "execution_count": null,
      "metadata": {
        "colab": {
          "base_uri": "https://localhost:8080/"
        },
        "id": "0qMdyUT8Mgv4",
        "outputId": "6cd2dee5-c833-4045-97f6-19ffe857c706"
      },
      "outputs": [
        {
          "name": "stdout",
          "output_type": "stream",
          "text": [
            "anas eagerly recommended 'the shawshank redemption' to his friends. He described the movie as a captivating and emotional story of hope and friendship. His friends decided to watch it together the following weekend.\n"
          ]
        }
      ],
      "source": [
        "print(statement)"
      ]
    },
    {
      "cell_type": "markdown",
      "metadata": {
        "id": "eWwJCSZcrGQr"
      },
      "source": [
        "1. Create a list containing the three sentences in the statement.\n",
        "Hint: Use split() method."
      ]
    },
    {
      "cell_type": "code",
      "execution_count": null,
      "metadata": {
        "colab": {
          "base_uri": "https://localhost:8080/"
        },
        "id": "cjAgMMBzqUPX",
        "outputId": "77a66fa3-225f-45d3-93bf-4d018e790708"
      },
      "outputs": [
        {
          "name": "stdout",
          "output_type": "stream",
          "text": [
            "[\"anas eagerly recommended 'the shawshank redemption' to his friends\", ' He described the movie as a captivating and emotional story of hope and friendship', ' His friends decided to watch it together the following weekend', '']\n"
          ]
        }
      ],
      "source": [
        "# Create a list containing the three sentences in the statement.\n",
        "\n",
        "sentence_list= statement.split('.')\n",
        "print(sentence_list)"
      ]
    },
    {
      "cell_type": "markdown",
      "metadata": {
        "id": "lutxbv7crjLV"
      },
      "source": [
        "2. The name 'anas' is spelled wrong. Replace it with 'Anas'."
      ]
    },
    {
      "cell_type": "code",
      "execution_count": null,
      "metadata": {
        "colab": {
          "base_uri": "https://localhost:8080/"
        },
        "id": "wihquZM3pptr",
        "outputId": "da0914ce-e643-4103-c386-1618693176fd"
      },
      "outputs": [
        {
          "name": "stdout",
          "output_type": "stream",
          "text": [
            "Anas eagerly recommended 'the shawshank redemption' to his friends. He described the movie as a captivating and emotional story of hope and friendship. His friends decided to watch it together the following weekend.\n"
          ]
        }
      ],
      "source": [
        "# The name 'anas' is spelled wrong.\n",
        "# Replace it with 'Anas'.\n",
        "\n",
        "statement = statement.replace('anas', 'Anas') #Redefine the statement, with the correction.\n",
        "print(statement)\n"
      ]
    },
    {
      "cell_type": "markdown",
      "metadata": {
        "id": "HaY-Pmgrr14E"
      },
      "source": [
        "3. The title of the book is not written in the correct cases as well. Make corrections there."
      ]
    },
    {
      "cell_type": "code",
      "execution_count": null,
      "metadata": {
        "colab": {
          "base_uri": "https://localhost:8080/"
        },
        "id": "qy50EVKesKoa",
        "outputId": "7aac4502-908c-4378-b837-822ae0f00a1f"
      },
      "outputs": [
        {
          "name": "stdout",
          "output_type": "stream",
          "text": [
            "Anas Eagerly Recommended 'The Shawshank Redemption' To His Friends. He Described The Movie As A Captivating And Emotional Story Of Hope And Friendship. His Friends Decided To Watch It Together The Following Weekend.\n"
          ]
        }
      ],
      "source": [
        "# Make corrections here.\n",
        "statement= statement.replace('the shawshank redemption', 'The Shawshank Redemption')\n",
        "print(statement)"
      ]
    },
    {
      "cell_type": "markdown",
      "metadata": {
        "id": "g7-df8O_sa8w"
      },
      "source": [
        "4. You believe \"The Shawshank Redemption\" would be bit too gloomy for the lot. Take user input of which movie to recommend and replace \"The Shawshank Redemption\" from the statement with the new recommendation."
      ]
    },
    {
      "cell_type": "code",
      "execution_count": null,
      "metadata": {
        "colab": {
          "base_uri": "https://localhost:8080/"
        },
        "id": "FaoDdYues1sT",
        "outputId": "bc22ec80-29d8-4556-f912-4e79791fdb5c"
      },
      "outputs": [
        {
          "name": "stdout",
          "output_type": "stream",
          "text": [
            "Which movie wold you recommend? Harry Potter\n",
            "Anas Eagerly Recommended 'Harry Potter' To His Friends. He Described The Movie As A Captivating And Emotional Story Of Hope And Friendship. His Friends Decided To Watch It Together The Following Weekend.\n"
          ]
        }
      ],
      "source": [
        "# Change the recommendation of movie to one, of your choice.\n",
        "# Take input of movie\n",
        "\n",
        "new_movie=input(\"Which movie wold you recommend? \")\n",
        "statement= statement.replace('The Shawshank Redemption',new_movie)\n",
        "print(statement)"
      ]
    },
    {
      "cell_type": "markdown",
      "metadata": {
        "id": "qCn4QduqtXLg"
      },
      "source": [
        "## 🎥 Suppose you have a collection of your favorite movies 🍿🎞️ and you want to keep track of them using a Python list 📜. You start with an empty list [] and keep adding new movies 🆕 to it. You also want to be able to remove movies ❌ that you have watched or no longer wish to keep in your collection. Finally, you want to be able to count 🔢 how many movies you have in your collection and reverse the order of the list 🔄."
      ]
    },
    {
      "cell_type": "code",
      "execution_count": null,
      "metadata": {
        "colab": {
          "base_uri": "https://localhost:8080/"
        },
        "id": "gHyiib9ptWpx",
        "outputId": "448ee41d-d893-448e-f7e9-2a8a29bf852a"
      },
      "outputs": [
        {
          "name": "stdout",
          "output_type": "stream",
          "text": [
            "My Movie Collection: ['The Way Back', 'harry Potter', 'Life Of Pi', 'The Grey', 'Black Sea']\n",
            "After removing movie 4 ['The Way Back', 'harry Potter', 'Life Of Pi', 'Black Sea']\n",
            "Number of movies: 4\n",
            "Reversed movie collection: ['Black Sea', 'Life Of Pi', 'harry Potter', 'The Way Back']\n"
          ]
        }
      ],
      "source": [
        "# Start with an empty list\n",
        "movie_collection = []\n",
        "\n",
        "# Add some movies to the collection using the append() method\n",
        "movie_collection.append(\"The Way Back\") # Use your favourite movie names\n",
        "movie_collection.append(\"harry Potter\")\n",
        "movie_collection.append(\"Life Of Pi\")\n",
        "movie_collection.append(\"The Grey\")\n",
        "movie_collection.append(\"Black Sea\")\n",
        "\n",
        "# Print the current collection of movies\n",
        "print(\"My Movie Collection:\", movie_collection)\n",
        "\n",
        "# Remove a movie from the collection using the pop() method\n",
        "# Code to remove index 3\n",
        "movie_collection.pop(3)\n",
        "print(\"After removing movie 4\", movie_collection)\n",
        "\n",
        "# Count how many movies are in the collection using the count() method\n",
        "num_movies = len(movie_collection)\n",
        "print(\"Number of movies:\", num_movies)\n",
        "\n",
        "# Reverse the order of the list using the reverse() method\n",
        "movie_collection.reverse()\n",
        "print(\"Reversed movie collection:\", movie_collection)\n"
      ]
    },
    {
      "cell_type": "markdown",
      "metadata": {
        "id": "uEY4_vNcvEZj"
      },
      "source": [
        "## 👩‍🏫 A teacher has stored the names of his students in a tuple as follows:\n",
        "('Adam','Alice','Ben','Bilal','Bharath')\n",
        "\n",
        "👨‍🎓 Their role numbers are defined as their index number + 1.\n",
        "\n",
        "🖥️ Write a program which would take the name of the student as input and return their role number."
      ]
    },
    {
      "cell_type": "code",
      "execution_count": null,
      "metadata": {
        "id": "MuXV52jRwNWR"
      },
      "outputs": [],
      "source": [
        "student_tupple=('Adam','Alice','Ben','Bilal','Bharath')"
      ]
    },
    {
      "cell_type": "code",
      "execution_count": null,
      "metadata": {
        "colab": {
          "base_uri": "https://localhost:8080/"
        },
        "id": "XPMNZkTnwRhb",
        "outputId": "0c07f44d-1f7b-4878-d46e-847d08f447f5"
      },
      "outputs": [
        {
          "name": "stdout",
          "output_type": "stream",
          "text": [
            "Input the student name to get roll number - Adam\n",
            "Adam 's roll number is:  1\n"
          ]
        }
      ],
      "source": [
        "# Take input from user and display role number as index of the input + 1\n",
        "student=input(\"Input the student name to get roll number - \")\n",
        "print(student,\"'s roll number is: \", student_tupple.index(student)+1) # Replace x with appropriate value"
      ]
    },
    {
      "cell_type": "markdown",
      "metadata": {
        "id": "8fz0W273yMnA"
      },
      "source": [
        "## A store 🏪 sells different types of fruits 🍎🍌🍇🍓 in baskets 🧺. The storekeeper 🧑 keeps track of the availability of each fruit type in separate sets. The storekeeper wants to know which fruits are available in both baskets, which fruits are unique to each basket, and the total number of fruits available. 🤔"
      ]
    },
    {
      "cell_type": "code",
      "execution_count": null,
      "metadata": {
        "colab": {
          "base_uri": "https://localhost:8080/"
        },
        "id": "v8PqzLt52z15",
        "outputId": "2b8be8f8-591b-461b-910f-7382d2234796"
      },
      "outputs": [
        {
          "name": "stdout",
          "output_type": "stream",
          "text": [
            "Total number of fruits available: 8\n",
            "All the available fruits: {'apple', 'mango', 'grape', 'pineapple', 'orange', 'banana'}\n",
            "Common fruits in both baskets: {'orange', 'banana'}\n",
            "Fruits unique to basket 1: {'apple', 'grape'}\n",
            "Fruits unique to basket 2: {'mango', 'pineapple'}\n"
          ]
        }
      ],
      "source": [
        "# Define sets for fruits in each basket\n",
        "basket1 = {'apple', 'banana', 'grape', 'orange'}\n",
        "basket2 = {'banana', 'mango', 'pineapple', 'orange'}\n",
        "\n",
        "# Find the total number of fruits available\n",
        "total_fruits = len(basket1) + len(basket2)\n",
        "print(\"Total number of fruits available:\", total_fruits)\n",
        "\n",
        "# Find fruits available in both baskets\n",
        "both_baskets = basket1 | basket2   # Replace x with appropriate method\n",
        "print(\"All the available fruits:\", both_baskets)\n",
        "\n",
        "# Find only the common fruits in both baskets\n",
        "common_fruits = basket1 & basket2   # Replace x with appropriate method\n",
        "print(\"Common fruits in both baskets:\", common_fruits)\n",
        "\n",
        "# Find fruits unique to each basket\n",
        "unique_basket1 = basket1 - basket2    # Replace x with appropriate method\n",
        "unique_basket2 = basket2 - basket1    # Replace x with appropriate method\n",
        "print(\"Fruits unique to basket 1:\", unique_basket1)\n",
        "print(\"Fruits unique to basket 2:\", unique_basket2)\n",
        "\n",
        "\n"
      ]
    },
    {
      "cell_type": "markdown",
      "metadata": {
        "id": "gklgsrl6kIW8"
      },
      "source": [
        "# **Statements, Indentation & Conditionals**"
      ]
    },
    {
      "cell_type": "markdown",
      "metadata": {
        "id": "ByhB8JrbeqQB"
      },
      "source": [
        "## 👉 Imagine that you are a food inspector who is responsible for inspecting the lead content of a packaged food material at a factory. If the content exceeds 5%, you should print the message \"This batch cannot be approved\".\n"
      ]
    },
    {
      "cell_type": "code",
      "execution_count": null,
      "metadata": {
        "colab": {
          "base_uri": "https://localhost:8080/"
        },
        "id": "SZMMKSXteqQC",
        "outputId": "2b6b42a2-7b38-4aef-ba28-2ec13fbed850"
      },
      "outputs": [
        {
          "name": "stdout",
          "output_type": "stream",
          "text": [
            "Please enter the lead content of the packaged food material in percentage: 5.5\n",
            "This batch cannot be approved.\n"
          ]
        }
      ],
      "source": [
        "# Get the lead content of the packaged food material\n",
        "lead_content = float(input(\"Please enter the lead content of the packaged food material in percentage: \"))\n",
        "\n",
        "# Check if the lead content exceeds 5%\n",
        "if lead_content > 5:\n",
        "  print(\"This batch cannot be approved.\")\n"
      ]
    },
    {
      "cell_type": "markdown",
      "metadata": {
        "id": "AbgFO_SEeqQD"
      },
      "source": [
        "## 👉 Imagine: You're a bouncer at a nightclub and need to check if someone is old enough to enter. The legal age for entry is 18 years. If the person is less than 18 years print \"Sorry You can not enter!\"."
      ]
    },
    {
      "cell_type": "code",
      "execution_count": null,
      "metadata": {
        "colab": {
          "base_uri": "https://localhost:8080/"
        },
        "id": "0uZg98vneqQE",
        "outputId": "69bde380-159b-4c04-e22b-463b472832fc"
      },
      "outputs": [
        {
          "name": "stdout",
          "output_type": "stream",
          "text": [
            "enter the age:15\n",
            "sorry you cannot enter!\n"
          ]
        }
      ],
      "source": [
        "age = int(input(\"enter the age:\"))\n",
        "\n",
        "\n",
        "#Check the age of the guest\n",
        "if age < 18 :\n",
        "  print(\"sorry you cannot enter!\")\n"
      ]
    },
    {
      "cell_type": "markdown",
      "metadata": {
        "id": "fmzxpgNEo1Le"
      },
      "source": [
        "## 👉 Imagine you are a fitness instructor who needs to evaluate if a client has reached their weight loss goal. The target weight loss goal is 10 pounds. If the client has lost at least 10 pounds, you should print the message \"Congratulations, you have reached your weight loss goal!\" However, if the client has lost less than 10 pounds, you should print \"Sorry, you have not reached your weight loss goal yet. Keep up the good work!\""
      ]
    },
    {
      "cell_type": "code",
      "execution_count": null,
      "metadata": {
        "colab": {
          "base_uri": "https://localhost:8080/"
        },
        "id": "nDMEHColo5hu",
        "outputId": "9bf04600-eb1d-496b-d20b-30e9ad84598e"
      },
      "outputs": [
        {
          "name": "stdout",
          "output_type": "stream",
          "text": [
            "Please enter the client's weight loss (in pounds): 5\n",
            "Sorry,you have not reached your weight loss goal yet. Keep up the good works\n"
          ]
        }
      ],
      "source": [
        "# Get the client's weight loss\n",
        "client_weight_loss = float(input(\"Please enter the client's weight loss (in pounds): \"))\n",
        "\n",
        "# Check if the client reached their weight loss goal\n",
        "if client_weight_loss >= 10 :\n",
        "  print(\"Congratulations, you have reached your weight loss goal!\")\n",
        "else :\n",
        "  print(\"Sorry,you have not reached your weight loss goal yet. Keep up the good works\")\n"
      ]
    },
    {
      "cell_type": "markdown",
      "metadata": {
        "id": "eLOwny2bprgv"
      },
      "source": [
        "##👉 Imagine: You're a gardener and need to check if a plant needs watering. If the soil moisture level is below 40%, print \"Water the plant!\", otherwise, print \"The plant doesn't need watering.\""
      ]
    },
    {
      "cell_type": "code",
      "execution_count": null,
      "metadata": {
        "colab": {
          "base_uri": "https://localhost:8080/"
        },
        "id": "8SAviqFOp1xX",
        "outputId": "e0edae1a-8509-493a-9b79-b603eec1fa72"
      },
      "outputs": [
        {
          "name": "stdout",
          "output_type": "stream",
          "text": [
            "Enter moisture level 45\n",
            "The plant doesn't need watering\n"
          ]
        }
      ],
      "source": [
        "# Take input of moisture level\n",
        "moisture_level = int(input(\"Enter moisture level \"))\n",
        "\n",
        "#Check if moisture level is satisfactory or not\n",
        "if moisture_level < 40 :\n",
        "  print(\"Water the plant\")\n",
        "else :\n",
        "  print(\"The plant doesn't need watering\")\n"
      ]
    },
    {
      "cell_type": "markdown",
      "metadata": {
        "id": "XA2dKqlxMVsH"
      },
      "source": [
        "##📦📬🚚 Creating a shipping cost calculator! ⚙️\n",
        "\n",
        "You need to create a program that calculates the cost of shipping a package based on its weight and destination 📦💰\n",
        "\n",
        "🌍 Domestic shipping within the country :\n",
        "\n",
        "* Packages weighing up to 1 kg cost Rs.50 to ship 🤑\n",
        "Each additional kg costs Rs.10 extra 💰\n",
        "\n",
        "🌎 International shipping to other countries 🌏:\n",
        "\n",
        "* Packages weighing up to 1 kg cost Rs.500 to ship 🤑\n",
        "\n",
        "Each additional kg costs Rs.100 extra 💰\n",
        "Ready to ship? 🚛🚀"
      ]
    },
    {
      "cell_type": "code",
      "execution_count": null,
      "metadata": {
        "colab": {
          "base_uri": "https://localhost:8080/"
        },
        "id": "orw7Q2qDOU45",
        "outputId": "89756aca-0de4-416f-e0a5-9a50b39d40ec"
      },
      "outputs": [
        {
          "output_type": "stream",
          "name": "stdout",
          "text": [
            "Enter the destination (domestic/international): domestic\n",
            "Enter the weight of the package in Kg: 2\n",
            "The shipping cost of a package weighting 2.0kg to domestic is Rs.60.0\n"
          ]
        }
      ],
      "source": [
        "destination = input(\"Enter the destination (domestic/international): \").lower()\n",
        "weight = float(input(\"Enter the weight of the package in Kg: \"))\n",
        "\n",
        "if destination == 'domestic':\n",
        " if weight <= 1:\n",
        "  cost = 50\n",
        " else:\n",
        "  cost = 50 + (weight-1)*10\n",
        "\n",
        "elif destination == 'international':\n",
        " if weight <= 1:\n",
        "  cost = 500\n",
        " else:\n",
        "  cost = 500 + (weight-1)*100\n",
        "\n",
        "else:\n",
        "  print(\"Invalid destination\")\n",
        "\n",
        "print(f\"The shipping cost of a package weighting {weight}kg to {destination} is Rs.{cost}\")\n"
      ]
    },
    {
      "cell_type": "markdown",
      "metadata": {
        "id": "gLPLG7NaYofV"
      },
      "source": [
        "## 🚗 As a car dealership manager, you need to create a discount system for your customers based on the price of the car they want to buy. Here are the rules! 📝\n",
        "\n",
        "🚘 If the car price is less than Rs. 10,00,000, there is no discount.\n",
        "\n",
        "🎁 If the car price is between Rs. 10,00,000 and Rs. 20,00,000, there is a discount of 5%.\n",
        "\n",
        "🎉 If the car price is between Rs. 20,00,000 and Rs. 30,00,000, there is a discount of 7.5%.\n",
        "\n",
        "🥳 If the car price is greater than Rs. 30,00,000, there is a discount of 10%.\n",
        "\n",
        "Are you ready to make your customers happy with these discounts? 🚗💰"
      ]
    },
    {
      "cell_type": "code",
      "execution_count": null,
      "metadata": {
        "colab": {
          "base_uri": "https://localhost:8080/"
        },
        "id": "koEUkJJgic1m",
        "outputId": "d82c20e2-e519-45d6-bd22-d393a19b5cd5"
      },
      "outputs": [
        {
          "name": "stdout",
          "output_type": "stream",
          "text": [
            "Enter the car price: 3500000\n",
            "car final price after discount is 3150000.0\n"
          ]
        }
      ],
      "source": [
        "car_price = int(input(\"Enter the car price: \"))\n",
        "if car_price < 1000000:                             #there is no discount.\n",
        "  car_final_price = car_price\n",
        "  print(f\"car final price after discount is {car_final_price}\")\n",
        "elif (car_price > 1000000 and car_price < 2000000): #there is a discount of 5%.\n",
        "  car_final_price = 0.95*car_price\n",
        "  print(f\"car final price after discount is {car_final_price}\")\n",
        "elif (car_price > 2000000 and car_price < 3000000): #there is a discount of 7.5%.\n",
        "  car_final_price = 0.925*car_price\n",
        "  print(f\"car final price after discount is {car_final_price}\")\n",
        "elif car_price > 3000000:                             #there is a discount of 10%.\n",
        "  car_final_price = 0.9*car_price\n",
        "  print(f\"car final price after discount is {car_final_price}\")"
      ]
    },
    {
      "cell_type": "markdown",
      "metadata": {
        "id": "9PNEVRVaIfLS"
      },
      "source": [
        "# **Loops & Iterations**"
      ]
    },
    {
      "cell_type": "markdown",
      "metadata": {
        "id": "QFad4dlHWjvx"
      },
      "source": [
        "## You and your friends are playing a board game where you roll a dice and move your game piece accordingly. However, you want to know the average number rolled by each player to see who's really the luckiest. Write a program that takes a list of rolls as input for each player and uses a for loop to calculate the average roll for each player. The winner gets bragging rights for being the luckiest!\n",
        "\n",
        "\n"
      ]
    },
    {
      "cell_type": "code",
      "execution_count": null,
      "metadata": {
        "id": "3-X0wqWCzuna"
      },
      "outputs": [],
      "source": [
        "player_rolls = [\n",
        "    [3, 5, 6, 2, 1],  # player 1's rolls\n",
        "    [4, 4, 6, 3, 2],  # player 2's rolls\n",
        "    [1, 5, 6, 6, 4]   # player 3's rolls\n",
        "] # list of a list\n"
      ]
    },
    {
      "cell_type": "code",
      "execution_count": null,
      "metadata": {
        "colab": {
          "base_uri": "https://localhost:8080/"
        },
        "id": "2Y9gP41ewxLM",
        "outputId": "b6be8718-938a-4d8f-e78d-c382e770b236"
      },
      "outputs": [
        {
          "name": "stdout",
          "output_type": "stream",
          "text": [
            "player 1's average roll is 3.4\n",
            "player 2's average roll is 3.8\n",
            "player 3's average roll is 4.4\n"
          ]
        }
      ],
      "source": [
        "\n",
        "for index in range(len(player_rolls)):\n",
        "  average_index = sum(player_rolls[index])/len(player_rolls[index])\n",
        "  print(f\"player {index + 1}'s average roll is {average_index}\")\n"
      ]
    },
    {
      "cell_type": "markdown",
      "metadata": {
        "id": "VB0b9bivcyKL"
      },
      "source": [
        "## Write a Python program that analyzes a list of names and sorts them into two categories: those that start with a vowel and those that start with a consonant. To achieve this, you'll use a nested loop and some basic conditional statements."
      ]
    },
    {
      "cell_type": "code",
      "execution_count": null,
      "metadata": {
        "colab": {
          "base_uri": "https://localhost:8080/"
        },
        "id": "-tuXcVjceNDA",
        "outputId": "81b24e0d-e50d-458f-b6fc-e47d96060274"
      },
      "outputs": [
        {
          "name": "stdout",
          "output_type": "stream",
          "text": [
            "list contains the names that start with vowels is ['Alice', 'Eve', 'Ivy', 'Olivia']\n",
            "list contains the names that start with consonant is ['Bob', 'Charlie', 'David', 'Peter']\n"
          ]
        }
      ],
      "source": [
        "names = [\"Alice\", \"Bob\", \"Eve\", \"Charlie\", \"Ivy\", \"David\", \"Olivia\", \"Peter\"]\n",
        "vowel_names = []\n",
        "consonant_names = []\n",
        "for name in names:\n",
        "  for i in name:\n",
        "   if i in \"aeiouAEIOU\" :\n",
        "    vowel_names.append(name)\n",
        "    break\n",
        "   else:\n",
        "    consonant_names.append(name)\n",
        "    break\n",
        "print(f\"list contains the names that start with vowels is {vowel_names}\")\n",
        "print(f\"list contains the names that start with consonant is {consonant_names}\")"
      ]
    },
    {
      "cell_type": "markdown",
      "metadata": {
        "id": "-8hkwqg8m8wN"
      },
      "source": [
        "## You are a teacher and you have a dictionary containing the grades of your students in a particular subject. The keys of the dictionary are the names of the students, and the values are their respective grades. You need to find the students who scored above 90% and print out their names."
      ]
    },
    {
      "cell_type": "code",
      "execution_count": null,
      "metadata": {
        "colab": {
          "base_uri": "https://localhost:8080/"
        },
        "id": "FB2JqhT_nYSe",
        "outputId": "7c84ffe3-4864-4534-e706-7ca9f4d2d186"
      },
      "outputs": [
        {
          "name": "stdout",
          "output_type": "stream",
          "text": [
            "The student who scored above 90%:\n",
            "Bob\n",
            "David\n",
            "Frank\n"
          ]
        }
      ],
      "source": [
        "# Define the grades dictionary\n",
        "grades = {\n",
        "    'Alice': 85,\n",
        "    'Bob': 92,\n",
        "    'Charlie': 88,\n",
        "    'David': 95,\n",
        "    'Emily': 78,\n",
        "    'Frank': 91\n",
        "}\n",
        "\n",
        "# Write Your Code Here\n",
        "print(\"The student who scored above 90%:\")\n",
        "for name, grade in grades.items():\n",
        "  if grade > 90 :\n",
        "    print(name)\n"
      ]
    },
    {
      "cell_type": "markdown",
      "metadata": {
        "id": "zr6auy0z5TvR"
      },
      "source": [
        "## You're given a nested list of numbers, and your task is to count the number of odd and even numbers in the list. To achieve this, you'll use a nested loop and some basic conditional statements.\n",
        "\n",
        "List - numbers = [\n",
        "    [2, 5, 11, 20, 8],\n",
        "    [9, 4, 15, 28, 17],\n",
        "    [1, 6, 21, 18, 3],\n",
        "    [10, 13, 25, 33, 30],\n",
        "    [14, 7, 16, 19, 22]\n",
        "]"
      ]
    },
    {
      "cell_type": "code",
      "execution_count": null,
      "metadata": {
        "colab": {
          "base_uri": "https://localhost:8080/"
        },
        "id": "WDIj__rukmfu",
        "outputId": "09bd46b3-bfdb-4a6a-fc09-6a752de9088b"
      },
      "outputs": [
        {
          "name": "stdout",
          "output_type": "stream",
          "text": [
            "even counts: 12\n",
            "odd counts: 13\n"
          ]
        }
      ],
      "source": [
        "# List of numbers\n",
        "numbers = [\n",
        "    [2, 5, 11, 20, 8],\n",
        "    [9, 4, 15, 28, 17],\n",
        "    [1, 6, 21, 18, 3],\n",
        "    [10, 13, 25, 33, 30],\n",
        "    [14, 7, 16, 19, 22]\n",
        "]\n",
        "\n",
        "# Your code here:\n",
        "even_count = 0\n",
        "odd_count = 0\n",
        "for number in numbers:\n",
        "  for num in number:\n",
        "    if num%2 == 0:\n",
        "      even_count = even_count + 1\n",
        "    else :\n",
        "       odd_count = odd_count + 1\n",
        "print(f\"even counts: {even_count}\")\n",
        "print(f\"odd counts: {odd_count}\")\n"
      ]
    },
    {
      "cell_type": "markdown",
      "metadata": {
        "id": "zqZRSProCrKH"
      },
      "source": [
        "## Imagine you're organizing a chess tournament 🏆, where each player has to play against every other player. To achieve this, you can use nested loops in Python! Nested loops are simply loops within loops, and they come in handy when you need to perform tasks involving multiple levels of iteration.\n",
        "\n",
        "In Python, you can nest 'for' loops, 'while' loops, or even a combination of both. Let's take a closer look at how nested loops work using our chess tournament scenario:"
      ]
    },
    {
      "cell_type": "code",
      "execution_count": null,
      "metadata": {
        "colab": {
          "base_uri": "https://localhost:8080/"
        },
        "id": "2X6rmjkWGbUu",
        "outputId": "0bbd2ea3-4530-4d77-a9ea-d58c47c2f36d"
      },
      "outputs": [
        {
          "name": "stdout",
          "output_type": "stream",
          "text": [
            "player Alice plays against player Bob \n",
            "player Alice plays against player Charlie \n",
            "player Alice plays against player Diana \n",
            "player Bob plays against player Alice \n",
            "player Bob plays against player Charlie \n",
            "player Bob plays against player Diana \n",
            "player Charlie plays against player Alice \n",
            "player Charlie plays against player Bob \n",
            "player Charlie plays against player Diana \n",
            "player Diana plays against player Alice \n",
            "player Diana plays against player Bob \n",
            "player Diana plays against player Charlie \n"
          ]
        }
      ],
      "source": [
        "# Write Your Code Here\n",
        "players = ['Alice', 'Bob', 'Charlie', 'Diana']\n",
        "for x in players:\n",
        "  for y in players:\n",
        "    if x!=y:\n",
        "      print(f\"player {x} plays against player {y} \")"
      ]
    },
    {
      "cell_type": "markdown",
      "metadata": {
        "id": "Q5d2ryJwIrH9"
      },
      "source": [
        "# **Conditional & Infinite Looping**"
      ]
    },
    {
      "cell_type": "markdown",
      "metadata": {
        "id": "bORtEvsst-Hi"
      },
      "source": [
        "## **Building a Simple Calculator**\n",
        "\n",
        "In this activity, you will build a simple calculator using conditional looping in Python. The calculator will ask the user for two numbers and an operation (addition, subtraction, multiplication, or division), and then perform the operation on the two numbers."
      ]
    },
    {
      "cell_type": "code",
      "execution_count": null,
      "metadata": {
        "colab": {
          "base_uri": "https://localhost:8080/"
        },
        "id": "Ushzbz-RuqxV",
        "outputId": "7e59a3f5-f24f-4c65-ef10-8e59a59fc863"
      },
      "outputs": [
        {
          "name": "stdout",
          "output_type": "stream",
          "text": [
            "Enter the num1: 8\n",
            "Enter the num2: 2\n",
            "Enter the operation to perform: addition\n",
            "10\n"
          ]
        }
      ],
      "source": [
        "# Write code here\n",
        "num1 = int(input(\"Enter the num1: \"))\n",
        "num2 = int(input(\"Enter the num2: \"))\n",
        "operation = input(\"Enter the operation to perform: \")\n",
        "\n",
        "if operation == \"addition\":\n",
        " result=num1 + num2\n",
        "\n",
        "elif operation == \"subtraction\":\n",
        " result=num1 - num2\n",
        "\n",
        "elif operation == \"multiplication\":\n",
        " result=num1 * num2\n",
        "\n",
        "elif operation == \"division\":\n",
        " if num2 != 0:\n",
        "  result=num1 / num2\n",
        " else:\n",
        "  result= \"zero division error\"\n",
        "\n",
        "else:\n",
        " result= \"invalid operation\"\n",
        "\n",
        "print(result)\n",
        "\n"
      ]
    },
    {
      "cell_type": "markdown",
      "metadata": {
        "id": "CxWXvkMLuVys"
      },
      "source": [
        "## **Building a Fibonacci Sequence Generator**\n",
        "\n",
        "In this activity, you will build a program that generates a Fibonacci sequence using conditional looping in Python. The Fibonacci sequence is a series of numbers in which each number is the sum of the two preceding numbers. The sequence starts with 0 and 1, and the next number in the sequence is the sum of the previous two numbers."
      ]
    },
    {
      "cell_type": "code",
      "execution_count": null,
      "metadata": {
        "colab": {
          "base_uri": "https://localhost:8080/"
        },
        "id": "sZhucS5rwLk0",
        "outputId": "fb8a5b2e-5161-4c7f-e901-9fd789335ab5"
      },
      "outputs": [
        {
          "name": "stdout",
          "output_type": "stream",
          "text": [
            "enter how many terms you want in the sequence: 5\n",
            "0 1 1 2 3 "
          ]
        }
      ],
      "source": [
        "# Write code here\n",
        "n = int(input(\"enter how many terms you want in the sequence: \"))\n",
        "num1 = 0\n",
        "num2 = 1\n",
        "count = 0\n",
        "while count < n:\n",
        " print(num1, end=\" \")\n",
        " next_num = num1 + num2\n",
        " num1 = num2\n",
        " num2 = next_num\n",
        " count+=1"
      ]
    },
    {
      "cell_type": "markdown",
      "metadata": {
        "id": "bxxR7TtBugpK"
      },
      "source": [
        "## **Counting the Digit**\n",
        "\n",
        "You have been given a task to write a Python program that counts the number of times a specific digit appears in a range of numbers. You need to use a for loop to iterate over the range of numbers, and a while loop to check each digit in the number."
      ]
    },
    {
      "cell_type": "markdown",
      "metadata": {
        "id": "-oo68QaIdoL6"
      },
      "source": [
        "Example:\n",
        "\n",
        "* Enter start number: 100\n",
        "* Enter end number: 150\n",
        "* Enter digit to count: 5\n",
        "* The digit 5 appears 6 times between 100 and 150.\n"
      ]
    },
    {
      "cell_type": "code",
      "execution_count": null,
      "metadata": {
        "colab": {
          "base_uri": "https://localhost:8080/"
        },
        "id": "uhS0_Btxc59A",
        "outputId": "e22599ee-4c3c-4ec9-9984-320a70a8189d"
      },
      "outputs": [
        {
          "name": "stdout",
          "output_type": "stream",
          "text": [
            "enter start number: 100\n",
            "enter end number: 150\n",
            "enter digit to count: 5\n",
            "The digit 5 appears 6 times between 100 and 150\n"
          ]
        }
      ],
      "source": [
        "# Write code here\n",
        "start = int(input(\"enter start number: \"))\n",
        "end = int(input(\"enter end number: \"))\n",
        "digit = int(input(\"enter digit to count: \"))\n",
        "count = 0\n",
        "for num in range(start, end + 1):\n",
        " while num!= 0:\n",
        "  r = num%10\n",
        "  if r == digit:\n",
        "    count+= 1\n",
        "  num = num/10\n",
        "\n",
        "print(f\"The digit {digit} appears {count} times between {start} and {end}\")"
      ]
    },
    {
      "cell_type": "markdown",
      "metadata": {
        "id": "gjRKFGWFIrPu"
      },
      "source": [
        "# **Custom Functions in Python**"
      ]
    },
    {
      "cell_type": "markdown",
      "metadata": {
        "id": "5oJRi3Mv1MuD"
      },
      "source": [
        "## **Building a Calculator**\n",
        "\n",
        "\n",
        "In this activity, we will create a custom function in Python to build a calculator that can perform basic arithmetic operations such as addition, subtraction, multiplication, and division."
      ]
    },
    {
      "cell_type": "markdown",
      "metadata": {
        "id": "etkfY4lA8iRg"
      },
      "source": [
        "**💻 Code:**"
      ]
    },
    {
      "cell_type": "code",
      "execution_count": null,
      "metadata": {
        "id": "L5nnlASM1JfV"
      },
      "outputs": [],
      "source": [
        "# Define a function called calculator that takes three arguments: num1, num2, and operation\n",
        "def calculator(num1,num2,operation):\n",
        " if operation == \"+\":\n",
        "  result=num1 + num2\n",
        "\n",
        " elif operation == \"-\":\n",
        "  result=num1 - num2\n",
        "\n",
        " elif operation == \"*\":\n",
        "  result=num1 * num2\n",
        "\n",
        " elif operation == \"/\":\n",
        "  if num2 != 0:\n",
        "   result=num1 / num2\n",
        "  else:\n",
        "   result= \"zero division error\"\n",
        "\n",
        " else:\n",
        "  result= \"invalid operation\"\n",
        "\n",
        " return result\n"
      ]
    },
    {
      "cell_type": "markdown",
      "metadata": {
        "id": "OXMHdeOH9EuG"
      },
      "source": [
        "**🧪 Test Code:**"
      ]
    },
    {
      "cell_type": "code",
      "execution_count": null,
      "metadata": {
        "colab": {
          "base_uri": "https://localhost:8080/"
        },
        "id": "woikfzcB1j-S",
        "outputId": "252810fc-9e66-4efe-fdd1-43eb09acaf20"
      },
      "outputs": [
        {
          "name": "stdout",
          "output_type": "stream",
          "text": [
            "Enter the num1: 8\n",
            "enter the num2: 2\n",
            "Enter the operation to perform: +\n",
            "10\n"
          ]
        }
      ],
      "source": [
        "# Test the calculator function\n",
        "num1 = int(input(\"Enter the num1: \"))\n",
        "num2 = int(input(\"enter the num2: \"))\n",
        "operation = input(\"Enter the operation to perform: \")\n",
        "print(calculator(num1,num2,operation))"
      ]
    },
    {
      "cell_type": "markdown",
      "metadata": {
        "id": "bFFQSaSN3ymq"
      },
      "source": [
        "## **Dice Rolling** 🎲\n",
        "\n",
        "Roll a dice and display the result. 🎲"
      ]
    },
    {
      "cell_type": "markdown",
      "metadata": {
        "id": "XB3M38js4r8r"
      },
      "source": [
        "## **Celsius to Fahrenheit Converter**\n",
        "\n",
        "Create a custom function that takes in a temperature in Celsius and returns the temperature in Fahrenheit.\n",
        "\n",
        "**For example**: If the input temperature is 20 degrees Celsius, the output temperature should be 68 degrees Fahrenheit.\n"
      ]
    },
    {
      "cell_type": "markdown",
      "metadata": {
        "id": "LVMw5sDQ8elX"
      },
      "source": [
        "💻 Code:"
      ]
    },
    {
      "cell_type": "code",
      "execution_count": null,
      "metadata": {
        "id": "AG3AA-1n4p5r"
      },
      "outputs": [],
      "source": [
        "# Define a function to convert celsius to fahrenheit\n",
        "def temperature_conversion(celsius_temperature):\n",
        "  Fahrenheit_temperature = (celsius_temperature * 9/5) + 32\n",
        "  return Fahrenheit_temperature"
      ]
    },
    {
      "cell_type": "markdown",
      "metadata": {
        "id": "KDtKd97y9CSH"
      },
      "source": [
        "**🧪 Test Code:**"
      ]
    },
    {
      "cell_type": "code",
      "execution_count": null,
      "metadata": {
        "colab": {
          "base_uri": "https://localhost:8080/"
        },
        "id": "T_sVClYZ5LT6",
        "outputId": "5588120f-ae7d-4655-90a2-b1297ce9427e"
      },
      "outputs": [
        {
          "name": "stdout",
          "output_type": "stream",
          "text": [
            "Enter the temperature in Celsius: 10\n",
            "If the input temperature is 10 degrees Celsius, the output temperature should be 50.0 degree Fahrenheit\n"
          ]
        }
      ],
      "source": [
        "# Example usage\n",
        "celsius_temperature = int(input(\"Enter the temperature in Celsius: \"))\n",
        "print(f\"If the input temperature is {celsius_temperature} degrees Celsius, the output temperature should be {temperature_conversion(celsius_temperature)} degree Fahrenheit\")"
      ]
    },
    {
      "cell_type": "markdown",
      "metadata": {
        "id": "grA9fcVA5EDC"
      },
      "source": [
        "Output:\n",
        "\n",
        "If the input temperature is 20 degrees Celsius, the output temperature should be 68 degrees Fahrenheit."
      ]
    },
    {
      "cell_type": "markdown",
      "metadata": {
        "id": "Iz8PDswd5Of5"
      },
      "source": [
        "**Instructions:**\n",
        "\n",
        "To create this function, you can use the formula to convert the temperature in Celsius to Fahrenheit. The formula for converting Celsius to Fahrenheit is F = (C * 9/5) + 32, where F is the temperature in Fahrenheit and C is the temperature in Celsius."
      ]
    },
    {
      "cell_type": "markdown",
      "metadata": {
        "id": "f38kTkX-6DR4"
      },
      "source": [
        "## **Sum odd Numbers** ➖\n",
        "\n",
        "In this activity, you will create a custom function in Python that takes a list of integers as an argument and returns the sum of all odd numbers in the list."
      ]
    },
    {
      "cell_type": "markdown",
      "metadata": {
        "id": "_M8e-8p36M1J"
      },
      "source": [
        "💻 Code:"
      ]
    },
    {
      "cell_type": "code",
      "execution_count": null,
      "metadata": {
        "id": "BfJMZFk75GP3"
      },
      "outputs": [],
      "source": [
        "# define sum_odd custom function\n",
        "def sum_odd(lst):\n",
        "  result = 0\n",
        "  for element in lst:\n",
        "    if element%2 != 0:\n",
        "      result+= element\n",
        "  return result\n"
      ]
    },
    {
      "cell_type": "markdown",
      "metadata": {
        "id": "6UGSjTv75-Qw"
      },
      "source": [
        "**🧪 Test Code:**"
      ]
    },
    {
      "cell_type": "code",
      "execution_count": null,
      "metadata": {
        "colab": {
          "base_uri": "https://localhost:8080/"
        },
        "id": "7yyxAwOY5_fS",
        "outputId": "baa909ee-134f-4d5b-b1ca-02b24eaabe31"
      },
      "outputs": [
        {
          "name": "stdout",
          "output_type": "stream",
          "text": [
            "Enter the list: [1,2,3,4,5,6]\n",
            "If the input is [1, 2, 3, 4, 5, 6], then the output should be 9\n"
          ]
        }
      ],
      "source": [
        "# test here\n",
        "lst = eval(input(\"Enter the list: \"))\n",
        "print(f\"If the input is {lst}, then the output should be {sum_odd(lst)}\")"
      ]
    },
    {
      "cell_type": "markdown",
      "metadata": {
        "id": "W80MJEP4IrWl"
      },
      "source": [
        "# **Advanced Looping Concepts**"
      ]
    },
    {
      "cell_type": "markdown",
      "metadata": {
        "id": "26lox7n97hNf"
      },
      "source": [
        "## **Pizza Toppings**\n",
        "\n",
        "🍕🍔 You have two lists, one containing pizza toppings and the other containing burger toppings. You need to create a new list that contains all the toppings from both the pizza and burger toppings lists, but only if they have more than 5 characters in their name.\n",
        "\n",
        "Can you write the code to create a new list that contains all the toppings from both the pizza and burger toppings lists, but only if they have more than 5 characters in their name using list comprehension only?\n",
        "\n",
        "👉 Hint: You can use a conditional statement to check the length of each topping's name."
      ]
    },
    {
      "cell_type": "code",
      "execution_count": null,
      "metadata": {
        "colab": {
          "base_uri": "https://localhost:8080/"
        },
        "id": "_L80Blvu6beB",
        "outputId": "919fa4e1-0097-4176-9448-437db2f641a3"
      },
      "outputs": [
        {
          "name": "stdout",
          "output_type": "stream",
          "text": [
            "['mushroom', 'tomato', 'pepperoni', 'garlic', 'lettuce', 'cheese', 'mayonnaise', 'pickle', 'avocado']\n"
          ]
        }
      ],
      "source": [
        "# Here are the example lists of toppings\n",
        "pizza_toppings = ['mushroom', 'olive', 'tomato', 'pepperoni', 'onion', 'garlic']\n",
        "burger_toppings = ['lettuce', 'cheese', 'mayonnaise', 'bacon', 'pickle', 'avocado']\n",
        "\n",
        "# Write your code here\n",
        "result_list = [topping for toppings in [pizza_toppings,burger_toppings] for topping in toppings if len(topping) > 5]\n",
        "print(result_list)\n"
      ]
    },
    {
      "cell_type": "markdown",
      "metadata": {
        "id": "RzZvjLHR75SA"
      },
      "source": [
        "## **Sales Data**\n",
        "\n",
        "🌎🛍️ Suppose you work for a company that sells products in different countries. You have been given two lists: one containing the names of the countries where the company sells its products, and the other containing the sales data for each country. Your task is to create a dictionary where the keys are the country names, and the values are the corresponding sales data. However, the sales data should only include values that are greater than 1000. You are not allowed to use any loops, and must use list comprehension to solve the problem.\n",
        "\n",
        "Can you write the code to create the desired dictionary using list comprehension?\n",
        "\n",
        "👉 Hint: You can use zip function to create pairs of country and sales data from the two lists."
      ]
    },
    {
      "cell_type": "code",
      "execution_count": null,
      "metadata": {
        "colab": {
          "base_uri": "https://localhost:8080/"
        },
        "id": "ih8qq03B70j-",
        "outputId": "bcdcdb72-897c-4256-f775-755c97e784ab"
      },
      "outputs": [
        {
          "name": "stdout",
          "output_type": "stream",
          "text": [
            "[{'USA': 2500}, {'Mexico': 1200}, {'France': 2000}, {'Germany': 4000}, {'India': 1500}]\n"
          ]
        }
      ],
      "source": [
        "# Here are the two lists\n",
        "countries = [\"USA\", \"Canada\", \"Mexico\", \"Brazil\", \"UK\", \"France\", \"Germany\", \"China\", \"India\"]\n",
        "sales = [2500, 300, 1200, 800, 500, 2000, 4000, 1000, 1500]\n",
        "\n",
        "# Write your code here\n",
        "countries_sales= list(zip(countries,sales))\n",
        "result_list = [{country: sale} for country, sale in countries_sales if sale > 1000]\n",
        "print(result_list)\n",
        "\n",
        "\n"
      ]
    },
    {
      "cell_type": "markdown",
      "metadata": {
        "id": "sBvyWOQv8KqP"
      },
      "source": [
        "## **Stock Filtering**\n",
        "\n",
        "📊📈 Suppose you are working for a company that deals with financial data. You have been given a list of dictionaries, where each dictionary contains the following information about a stock: name, ticker symbol, price, and percentage change in price. Your task is to create a new list of dictionaries, where each dictionary contains only the name and price of the stock, but only for those stocks where the price is greater than 100 and the percentage change is positive. You must use list comprehension to solve the problem.\n",
        "\n",
        "Can you write the code to create the desired list of dictionaries using list comprehension?\n",
        "\n",
        "👉 Hint: You can use conditional statements to check if the price is greater than 100 and the percentage change is positive in the list comprehension."
      ]
    },
    {
      "cell_type": "code",
      "execution_count": null,
      "metadata": {
        "colab": {
          "base_uri": "https://localhost:8080/"
        },
        "id": "pT6d0-9M8JJ8",
        "outputId": "ed3bf702-9f63-41c4-8502-a9db9ff0e8ff"
      },
      "outputs": [
        {
          "name": "stdout",
          "output_type": "stream",
          "text": [
            "the stocks whose price is greater than 100 and the percentage change is positive: [{'name': 'Apple Inc.', 'price': 120.0}, {'name': 'Amazon.com, Inc.', 'price': 250.0}, {'name': 'Alphabet Inc.', 'price': 110.0}]\n"
          ]
        }
      ],
      "source": [
        "# Here is an example of the list of dictionaries\n",
        "stocks = [\n",
        "    {'name': 'Apple Inc.', 'ticker': 'AAPL', 'price': 120.0, 'change': 0.05},\n",
        "    {'name': 'Microsoft Corporation', 'ticker': 'MSFT', 'price': 95.0, 'change': -0.02},\n",
        "    {'name': 'Amazon.com, Inc.', 'ticker': 'AMZN', 'price': 250.0, 'change': 0.1},\n",
        "    {'name': 'Alphabet Inc.', 'ticker': 'GOOGL', 'price': 110.0, 'change': 0.02},\n",
        "    {'name': 'Facebook, Inc.', 'ticker': 'FB', 'price': 80.0, 'change': 0.03}\n",
        "]\n",
        "\n",
        "\n",
        "\n",
        "#Createa a list of dictionaries where there is only the name and price.\n",
        "new_stocks= [{'name':stock['name'], 'price':stock['price']} for stock in stocks if stock['price'] >100 and stock['change'] >0 ]\n",
        "print(f\"the stocks whose price is greater than 100 and the percentage change is positive: {new_stocks}\")\n"
      ]
    },
    {
      "cell_type": "markdown",
      "metadata": {
        "id": "Gm_824J28kwx"
      },
      "source": [
        "## **Duplicate Songs**\n",
        "\n",
        "🎵🎶 You have a list of songs that you like to listen to, but you notice that some of the songs have duplicate names. You want to create a new set that contains the unique names of all the songs and keep the songs whose name doesn't start with \"S\" and doesn't end with \"n\" in your list using set comprehension.\n",
        "\n",
        "Can you write the code to create a new set that contains the unique names of all the songs in your list using set comprehension only?\n",
        "\n",
        "👉 Hint: Set comprehension is similar to list comprehension, but with curly braces {} instead of square brackets []."
      ]
    },
    {
      "cell_type": "code",
      "execution_count": null,
      "metadata": {
        "colab": {
          "base_uri": "https://localhost:8080/"
        },
        "id": "1RR_E-kM8hRt",
        "outputId": "cebefd65-89b2-4498-a5f0-2a0d671b0eb1"
      },
      "outputs": [
        {
          "name": "stdout",
          "output_type": "stream",
          "text": [
            "{'November Rain', 'Bohemian Rhapsody', \"Sweet Child O' Mine\", 'Hotel California'}\n"
          ]
        }
      ],
      "source": [
        "# Here's an example list of songs\n",
        "songs = ['Bohemian Rhapsody', 'Stairway to Heaven', 'Bohemian Rhapsody', 'Hotel California', 'November Rain', 'Stairway to Heaven', 'Sweet Child O\\' Mine']\n",
        "\n",
        "# Write your code here\n",
        "unique_song_set = {song for song in songs if not (song.startswith('S') and song.endswith('n'))}\n",
        "print(unique_song_set)"
      ]
    },
    {
      "cell_type": "markdown",
      "metadata": {
        "id": "HC2V6Rf0Ircs"
      },
      "source": [
        "# **OOPs in Python**"
      ]
    },
    {
      "cell_type": "markdown",
      "metadata": {
        "id": "wi0GGVc-l-iH"
      },
      "source": [
        "## **Building a Simple Calculator** 🧮🔢\n",
        "\n",
        "\n",
        "In this activity, you will build a simple calculator program in Python using Object-Oriented Programming (OOP) concepts."
      ]
    },
    {
      "cell_type": "code",
      "execution_count": null,
      "metadata": {
        "id": "zphxebyom5IQ"
      },
      "outputs": [],
      "source": [
        "# Define a simple calculator class\n",
        "class calculator:\n",
        "\n",
        "  def __init__(self):\n",
        "    self.result = 0\n",
        "\n",
        "  def add(self,num1,num2):\n",
        "    self.result = num1+num2\n",
        "    return self.result\n",
        "\n",
        "  def subtract(self,num1,num2):\n",
        "    self.result = num1-num2\n",
        "    return self.result\n",
        "\n",
        "  def multiply(self,num1,num2):\n",
        "    self.result = num1*num2\n",
        "    return self.result\n",
        "\n",
        "  def divide(self,num1,num2):\n",
        "    if num2 == 0:\n",
        "     raise ValueError(\"Cannot divide by zero\")\n",
        "    self.result = num1/num2\n",
        "    return self.result\n",
        "\n"
      ]
    },
    {
      "cell_type": "code",
      "execution_count": null,
      "metadata": {
        "colab": {
          "base_uri": "https://localhost:8080/"
        },
        "id": "rKnQSAlpsdx0",
        "outputId": "527f791b-b16c-461e-e6c3-6c396b216d7f"
      },
      "outputs": [
        {
          "name": "stdout",
          "output_type": "stream",
          "text": [
            "Addition is 10\n",
            "Substraction is 6\n",
            "Multiplication is 16\n",
            "Division is 4.0\n"
          ]
        }
      ],
      "source": [
        "# Test Case\n",
        "calc = calculator()\n",
        "\n",
        "addition = calc.add(8,2)\n",
        "substraction = calc.subtract(8,2)\n",
        "multiplication = calc.multiply(8,2)\n",
        "division = calc.divide(8,2)\n",
        "\n",
        "print(f\"Addition is {addition}\")\n",
        "print(f\"Substraction is {substraction}\")\n",
        "print(f\"Multiplication is {multiplication}\")\n",
        "print(f\"Division is {division}\")"
      ]
    },
    {
      "cell_type": "markdown",
      "metadata": {
        "id": "3IigXP8Ir4Yq"
      },
      "source": [
        "## 🏀**Basketball Game Score Tracker**📈\n",
        "\n",
        "Create a class that will keep track of the score of a basketball game. The class should have methods for updating the score and printing the current score."
      ]
    },
    {
      "cell_type": "code",
      "execution_count": null,
      "metadata": {
        "id": "op236YgFsjA7"
      },
      "outputs": [],
      "source": [
        "# Create BasketballGame class\n",
        "class BasketballGame:\n",
        "\n",
        "  def __init__(self):\n",
        "   self.team1_score = 0\n",
        "   self.team2_score = 0\n",
        "\n",
        "  def Update_Score(self,team1_points,team2_points):\n",
        "   self.team1_score += team1_points\n",
        "   self.team2_score += team2_points\n",
        "\n",
        "  def Display_Score(self):\n",
        "   print(f\"current score of team1 is {self.team1_score} and team2 is {self.team2_score}\")"
      ]
    },
    {
      "cell_type": "code",
      "execution_count": null,
      "metadata": {
        "colab": {
          "base_uri": "https://localhost:8080/"
        },
        "id": "KSatdMIbsuI7",
        "outputId": "f2118b35-5787-495c-c6a9-f30a7bbe04ef"
      },
      "outputs": [
        {
          "name": "stdout",
          "output_type": "stream",
          "text": [
            "current score of team1 is 20 and team2 is 40\n"
          ]
        }
      ],
      "source": [
        "# Example Usage:\n",
        "Game = BasketballGame()\n",
        "\n",
        "Game.Update_Score(0,20)\n",
        "Game.Update_Score(0,20)\n",
        "Game.Update_Score(20,0)\n",
        "Game.Display_Score()\n"
      ]
    },
    {
      "cell_type": "markdown",
      "metadata": {
        "id": "VwvhqW59s8-7"
      },
      "source": [
        "## 🎨 **Paint Brush Class** 🖌️\n",
        "\n",
        "Create a Python class for a paint brush that has the following properties:\n",
        "\n",
        "* Size (small, medium, or large)\n",
        "* Color (red, blue, green, or yellow)\n",
        "* Brand (Winsor & Newton, Liquitex, or Grumbacher)\n",
        "* Type (round or flat)\n"
      ]
    },
    {
      "cell_type": "code",
      "execution_count": null,
      "metadata": {
        "id": "YZ8JOqPotDM7"
      },
      "outputs": [],
      "source": [
        "# Define PaintBrush Class\n",
        "class PaintBrush:\n",
        "\n",
        "  def __init__(self,size,colour,brand,brush_type):\n",
        "    self.size = size\n",
        "    self.colour = colour\n",
        "    self.brand = brand\n",
        "    self.brush_type = brush_type\n",
        "\n",
        "  def paint(self):\n",
        "    print(f\"The brush size, color, brand, and brush type are {self.size}, {self.colour}, {self.brand}, and {self.brush_type}\")\n"
      ]
    },
    {
      "cell_type": "markdown",
      "metadata": {
        "id": "XA4HMkLatMrq"
      },
      "source": [
        "Now, create an instance of the PaintBrush class with the following properties:\n",
        "\n",
        "* Size: medium\n",
        "* Color: red\n",
        "* Brand: Winsor & Newton\n",
        "* Type: round\n",
        "* Call the paint() method on the instance to simulate painting with the brush."
      ]
    },
    {
      "cell_type": "code",
      "execution_count": null,
      "metadata": {
        "colab": {
          "base_uri": "https://localhost:8080/"
        },
        "id": "jMo7hRI4tQhU",
        "outputId": "b7aac3d9-ad0b-4ebd-c43b-d553fe99e1d1"
      },
      "outputs": [
        {
          "name": "stdout",
          "output_type": "stream",
          "text": [
            "The brush size, color, brand, and brush type are medium, red, Winsor & Newton, and round\n"
          ]
        }
      ],
      "source": [
        "# Test Case\n",
        "paintbrush1 = PaintBrush(size = 'medium',colour = 'red',brand = 'Winsor & Newton',brush_type = 'round')\n",
        "paintbrush1.paint()"
      ]
    },
    {
      "cell_type": "markdown",
      "metadata": {
        "id": "ARKS5oEitsVt"
      },
      "source": [
        "## **Bank Account Management System** 💻🏦\n",
        "\n",
        "Create a Bank Account Management System using Object-Oriented Programming (OOPs) in Python. The system should allow users to create and manage bank accounts, deposit and withdraw funds, and view account details."
      ]
    },
    {
      "cell_type": "code",
      "execution_count": null,
      "metadata": {
        "id": "J3WL7qYjvIml"
      },
      "outputs": [],
      "source": [
        "# Define a BankAccount class\n",
        "class BankAccount:\n",
        "\n",
        "  def __init__(self,name,account_number,balance):\n",
        "   self.name = name\n",
        "   self.account_number = account_number\n",
        "   self.balance = balance\n",
        "\n",
        "  def deposit(self,deposit_amount):\n",
        "   self.balance += deposit_amount\n",
        "   print(f\"deposit of {deposit_amount} successful. the new balance: {self.balance}\")\n",
        "\n",
        "  def withdraw(self,withdrawn_amount):\n",
        "   if self.balance > withdrawn_amount :\n",
        "    self.balance -= withdrawn_amount\n",
        "    print(f\"withdrawal of {withdrawn_amount} successful. the new balance: {self.balance}\")\n",
        "   else:\n",
        "    print(f\"insufficient funds. the current balance: {self.balance}\")\n",
        "\n",
        "  def account_details(self):\n",
        "   print(f\"Account holder Name = {self.name}\")\n",
        "   print(f\"Account_number = {self.account_number}\")\n",
        "   print(f\"Balance = {self.balance}\")"
      ]
    },
    {
      "cell_type": "code",
      "execution_count": null,
      "metadata": {
        "colab": {
          "base_uri": "https://localhost:8080/"
        },
        "id": "mihs9I58w0AB",
        "outputId": "978e768a-5532-43e1-943d-55f686d62d02"
      },
      "outputs": [
        {
          "name": "stdout",
          "output_type": "stream",
          "text": [
            "deposit of 500 successful. the new balance: 2500\n",
            "withdrawal of 100 successful. the new balance: 2400\n",
            "Account holder Name = Ram\n",
            "Account_number = 9930\n",
            "Balance = 2400\n"
          ]
        }
      ],
      "source": [
        "# Test Case\n",
        "user1 = BankAccount(name = 'Ram', account_number = '9930', balance = 2000)\n",
        "user1.deposit(500)\n",
        "user1.withdraw(100)\n",
        "user1.account_details()"
      ]
    },
    {
      "cell_type": "markdown",
      "metadata": {
        "id": "Ym0esuHoIriH"
      },
      "source": [
        "# **Exception Handling**"
      ]
    },
    {
      "cell_type": "markdown",
      "metadata": {
        "id": "7X3Rz0V8HgfP"
      },
      "source": [
        "## **Sum of first n Natural Numbers**\n",
        "\n",
        "💻 Suppose you are working on a project that requires you to write a Python program that calculates the sum of the first n natural numbers. You wrote a program to solve the problem, but the code contains several errors that prevent it from executing properly. ❌\n",
        "\n",
        "Your task is to identify and rectify the errors in the code and write the correct program. 🛠️"
      ]
    },
    {
      "cell_type": "code",
      "execution_count": null,
      "metadata": {
        "id": "VWJZF0ssHJMS",
        "colab": {
          "base_uri": "https://localhost:8080/",
          "height": 228
        },
        "outputId": "c93d8e23-a492-42a9-f1bb-1fa17e9e7070"
      },
      "outputs": [
        {
          "name": "stdout",
          "output_type": "stream",
          "text": [
            "Enter a number: 5\n"
          ]
        },
        {
          "output_type": "error",
          "ename": "TypeError",
          "evalue": "can only concatenate str (not \"int\") to str",
          "traceback": [
            "\u001b[0;31m---------------------------------------------------------------------------\u001b[0m",
            "\u001b[0;31mTypeError\u001b[0m                                 Traceback (most recent call last)",
            "\u001b[0;32m<ipython-input-3-bd1eae01c8c2>\u001b[0m in \u001b[0;36m<cell line: 4>\u001b[0;34m()\u001b[0m\n\u001b[1;32m      2\u001b[0m \u001b[0mn\u001b[0m \u001b[0;34m=\u001b[0m \u001b[0minput\u001b[0m\u001b[0;34m(\u001b[0m\u001b[0;34m\"Enter a number: \"\u001b[0m\u001b[0;34m)\u001b[0m\u001b[0;34m\u001b[0m\u001b[0;34m\u001b[0m\u001b[0m\n\u001b[1;32m      3\u001b[0m \u001b[0msum\u001b[0m \u001b[0;34m=\u001b[0m \u001b[0;36m0\u001b[0m\u001b[0;34m\u001b[0m\u001b[0;34m\u001b[0m\u001b[0m\n\u001b[0;32m----> 4\u001b[0;31m \u001b[0;32mfor\u001b[0m \u001b[0mi\u001b[0m \u001b[0;32min\u001b[0m \u001b[0mrange\u001b[0m\u001b[0;34m(\u001b[0m\u001b[0;36m0\u001b[0m\u001b[0;34m,\u001b[0m \u001b[0mn\u001b[0m\u001b[0;34m+\u001b[0m\u001b[0;36m1\u001b[0m\u001b[0;34m)\u001b[0m\u001b[0;34m:\u001b[0m\u001b[0;34m\u001b[0m\u001b[0;34m\u001b[0m\u001b[0m\n\u001b[0m\u001b[1;32m      5\u001b[0m   \u001b[0msum\u001b[0m \u001b[0;34m=\u001b[0m \u001b[0msum\u001b[0m \u001b[0;34m+\u001b[0m \u001b[0mi\u001b[0m\u001b[0;34m\u001b[0m\u001b[0;34m\u001b[0m\u001b[0m\n\u001b[1;32m      6\u001b[0m \u001b[0mprint\u001b[0m\u001b[0;34m(\u001b[0m\u001b[0;34m\"The sum of the first\"\u001b[0m\u001b[0;34m,\u001b[0m \u001b[0mn\u001b[0m\u001b[0;34m,\u001b[0m \u001b[0;34m\"natural numbers is\"\u001b[0m\u001b[0;34m,\u001b[0m \u001b[0msum\u001b[0m\u001b[0;34m)\u001b[0m\u001b[0;34m\u001b[0m\u001b[0;34m\u001b[0m\u001b[0m\n",
            "\u001b[0;31mTypeError\u001b[0m: can only concatenate str (not \"int\") to str"
          ]
        }
      ],
      "source": [
        "# Code with errors\n",
        "n = input(\"Enter a number: \")\n",
        "sum = 0\n",
        "for i in range(0, n+1):\n",
        "  sum = sum + i\n",
        "print(\"The sum of the first\", n, \"natural numbers is\", sum)"
      ]
    },
    {
      "cell_type": "code",
      "execution_count": null,
      "metadata": {
        "id": "Gx1ZJKgWLDCf",
        "colab": {
          "base_uri": "https://localhost:8080/"
        },
        "outputId": "4906805d-a019-40cf-c364-d5917e76a623"
      },
      "outputs": [
        {
          "output_type": "stream",
          "name": "stdout",
          "text": [
            "Enter a number: 5\n",
            "The sum of the first 5 natural numbers is 15\n"
          ]
        }
      ],
      "source": [
        "# Write your code here\n",
        "n = int(input(\"Enter a number: \"))\n",
        "sum = 0\n",
        "for i in range(1, n+1):\n",
        " sum = sum + i\n",
        "print(\"The sum of the first\", n, \"natural numbers is\", sum)\n",
        "\n"
      ]
    },
    {
      "cell_type": "markdown",
      "metadata": {
        "id": "yLGJGYS6I3Wh"
      },
      "source": [
        "## **Average Temperature** 🌡️🌡️\n",
        "\n",
        "You have been given a task to develop a program that calculates the average temperature 🌡️ of a city 🏢 for a given week. You have written a program to solve the problem, but there seems to be some logical errors that are causing the program to output incorrect results. You are provided with two sets of weekly temperatures and need to find the average of each individual week.\n",
        "\n",
        "Your task is to identify and rectify the logical errors in the code and write the correct program."
      ]
    },
    {
      "cell_type": "code",
      "execution_count": null,
      "metadata": {
        "id": "g0bm4yDDI2yW",
        "colab": {
          "base_uri": "https://localhost:8080/"
        },
        "outputId": "bcca8a84-f217-499a-dd2e-a3bb7d32f7ab"
      },
      "outputs": [
        {
          "output_type": "stream",
          "name": "stdout",
          "text": [
            "The average temperature of the week is 232 degrees Celsius.\n"
          ]
        }
      ],
      "source": [
        "# Temperature data for the week 1 and week 2\n",
        "temperatures_w1 = [32, 34, 31, 30, 29, 28, 33]\n",
        "temperatures_w2 = [31, 34, 35, 28, 29]\n",
        "\n",
        "# Calculate the sum of all temperatures\n",
        "for temperature in temperatures_w1:\n",
        "  sum = sum + temperature\n",
        "\n",
        "# Calculate the average temperature\n",
        "average = sum / 7\n",
        "\n",
        "# Output the result\n",
        "print(\"The average temperature of the week is\", sum, \"degrees Celsius.\")"
      ]
    },
    {
      "cell_type": "code",
      "execution_count": null,
      "metadata": {
        "id": "J5JuV9WqLFX_",
        "colab": {
          "base_uri": "https://localhost:8080/"
        },
        "outputId": "5e4a40f9-dbd2-41ea-d79e-82ce0e4b272f"
      },
      "outputs": [
        {
          "output_type": "stream",
          "name": "stdout",
          "text": [
            "The average temperature of the week is 31.0 degrees Celsius.\n",
            "The average temperature of the week is 43.4 degrees Celsius.\n"
          ]
        }
      ],
      "source": [
        "# Write your code here\n",
        "temperatures_w1 = [32, 34, 31, 30, 29, 28, 33]\n",
        "temperatures_w2 = [31, 34, 35, 28, 29]\n",
        "\n",
        "sum_w1 = 0\n",
        "for temperature in temperatures_w1:\n",
        "  sum_w1 = sum_w1 + temperature\n",
        "\n",
        "average_w1 = sum_w1/ len(temperatures_w1)\n",
        "\n",
        "print(\"The average temperature of the week is\", average_w1, \"degrees Celsius.\")\n",
        "\n",
        "sum_w2 = 0\n",
        "for temperature in temperatures_w1:\n",
        "  sum_w2 = sum_w2 + temperature\n",
        "\n",
        "average_w2 = sum_w2/ len(temperatures_w2)\n",
        "\n",
        "print(\"The average temperature of the week is\", average_w2, \"degrees Celsius.\")\n",
        "\n"
      ]
    },
    {
      "cell_type": "markdown",
      "metadata": {
        "id": "r04OSlnDLKj3"
      },
      "source": [
        "## **Handle that Error!** ❌❌\n",
        "\n",
        "You are developing a Python program that requires user input. You want to make sure that your program doesn't crash due to invalid user input or unexpected errors 🛑. You have heard about exception handling in Python and want to implement it in your program to handle errors gracefully.\n",
        "\n",
        "Your task is to implement exception handling in your program to handle invalid user input and unexpected errors."
      ]
    },
    {
      "cell_type": "code",
      "execution_count": null,
      "metadata": {
        "id": "1UPr7gn2KIm_",
        "colab": {
          "base_uri": "https://localhost:8080/",
          "height": 245
        },
        "outputId": "7a43e810-05f8-4858-c4c9-bddf08824e98"
      },
      "outputs": [
        {
          "name": "stdout",
          "output_type": "stream",
          "text": [
            "Enter the first number: 5\n",
            "Enter the second number: 0\n"
          ]
        },
        {
          "output_type": "error",
          "ename": "ZeroDivisionError",
          "evalue": "division by zero",
          "traceback": [
            "\u001b[0;31m---------------------------------------------------------------------------\u001b[0m",
            "\u001b[0;31mZeroDivisionError\u001b[0m                         Traceback (most recent call last)",
            "\u001b[0;32m<ipython-input-7-a32a6d0f0ca4>\u001b[0m in \u001b[0;36m<cell line: 5>\u001b[0;34m()\u001b[0m\n\u001b[1;32m      3\u001b[0m \u001b[0mnum2\u001b[0m \u001b[0;34m=\u001b[0m \u001b[0mint\u001b[0m\u001b[0;34m(\u001b[0m\u001b[0minput\u001b[0m\u001b[0;34m(\u001b[0m\u001b[0;34m\"Enter the second number: \"\u001b[0m\u001b[0;34m)\u001b[0m\u001b[0;34m)\u001b[0m\u001b[0;34m\u001b[0m\u001b[0;34m\u001b[0m\u001b[0m\n\u001b[1;32m      4\u001b[0m \u001b[0;34m\u001b[0m\u001b[0m\n\u001b[0;32m----> 5\u001b[0;31m \u001b[0mresult\u001b[0m \u001b[0;34m=\u001b[0m \u001b[0mnum1\u001b[0m \u001b[0;34m/\u001b[0m \u001b[0mnum2\u001b[0m\u001b[0;34m\u001b[0m\u001b[0;34m\u001b[0m\u001b[0m\n\u001b[0m\u001b[1;32m      6\u001b[0m \u001b[0;34m\u001b[0m\u001b[0m\n\u001b[1;32m      7\u001b[0m \u001b[0mprint\u001b[0m\u001b[0;34m(\u001b[0m\u001b[0;34m\"The result is: \"\u001b[0m\u001b[0;34m,\u001b[0m \u001b[0mresult\u001b[0m\u001b[0;34m)\u001b[0m\u001b[0;34m\u001b[0m\u001b[0;34m\u001b[0m\u001b[0m\n",
            "\u001b[0;31mZeroDivisionError\u001b[0m: division by zero"
          ]
        }
      ],
      "source": [
        "# Code without exception handling\n",
        "num1 = int(input(\"Enter the first number: \"))\n",
        "num2 = int(input(\"Enter the second number: \"))\n",
        "\n",
        "result = num1 / num2\n",
        "\n",
        "print(\"The result is: \", result)"
      ]
    },
    {
      "cell_type": "code",
      "execution_count": null,
      "metadata": {
        "id": "9X3-V505Lqor",
        "colab": {
          "base_uri": "https://localhost:8080/"
        },
        "outputId": "1ba56baa-4486-4fc8-bae8-76d2f8725068"
      },
      "outputs": [
        {
          "output_type": "stream",
          "name": "stdout",
          "text": [
            "Enter the first number: 5\n",
            "Enter the second number: 0\n",
            "Error: You cannot divide be zero!\n"
          ]
        }
      ],
      "source": [
        "# Write your code here\n",
        "try:\n",
        " num1 = int(input(\"Enter the first number: \"))\n",
        " num2 = int(input(\"Enter the second number: \"))\n",
        " result = num1 / num2\n",
        " print(\"The result is: \", result)\n",
        "\n",
        "except ZeroDivisionError:\n",
        " print(\"Error: You cannot divide be zero!\")\n",
        "except ValueError:\n",
        " print(\"Error: please enter valid integer for the numbers.\")\n",
        "\n"
      ]
    },
    {
      "cell_type": "markdown",
      "metadata": {
        "id": "a5yhjDXAMTv6"
      },
      "source": [
        "## **What's the time?** ⌚⌚\n",
        "\n",
        "Create a class Time which takes two inputs: hours and minutes to instantiate.\n",
        "\n",
        "* Construct a method DisplayTime() which displays the time in AM/PM formats.\n",
        "\n",
        " * For example if the input is 14 hours and 45 mins, then this method will print \"The time is 2:45 PM\".\n",
        " * If the inputted hours exceeds 23 then print the message \"The input hours should be less than 24\" and if the inputted minutes exceeds 59 then print the message \"The input minutes should be less than 60.\"\n",
        " * Also if the input is 12 hours 30 minutes, then the displayed time would be 12:30 PM\n",
        "\n",
        "* Construct a method DisplayRatio() which should display the ratio of minutes to hours.\n",
        " * For example, (8 hours and 16 mins) should display 2. Use try, except block to account for ZeroDivisionError."
      ]
    },
    {
      "cell_type": "code",
      "execution_count": null,
      "metadata": {
        "id": "_xHOnmYILyor"
      },
      "outputs": [],
      "source": [
        "# Write your code here\n",
        "class Time:\n",
        "\n",
        " def __init__(self,hours,minutes):\n",
        "  self.hours = hours\n",
        "  self.minutes = minutes\n",
        "\n",
        " def DisplayTime(self):\n",
        "  if self.hours >= 24:\n",
        "   print(\"The input hours should be less than 24\")\n",
        "  elif self.minutes >= 60:\n",
        "   print(\"The input minutes should be less than 60\")\n",
        "  elif self.hours >= 12:\n",
        "   print(f\"The time is {self.hours-12}:{self.minutes} PM\")\n",
        "  else:\n",
        "   print(f\"The time is {self.hours}:{self.minutes} AM\")\n",
        "\n",
        "\n",
        "\n",
        "\n",
        " def DisplayRatio(self):\n",
        "  try:\n",
        "   ratio = self.minutes/self.hours\n",
        "   print(f\"the ratio of minutes to hours: {ratio}\")\n",
        "  except ZeroDivisionError:\n",
        "   print(\"division by zero is not allowed\")\n",
        "\n",
        "\n"
      ]
    },
    {
      "cell_type": "code",
      "execution_count": null,
      "metadata": {
        "id": "BuTerXSIMsfR",
        "colab": {
          "base_uri": "https://localhost:8080/"
        },
        "outputId": "0c725097-84c7-4e78-e353-e80b98f4facb"
      },
      "outputs": [
        {
          "output_type": "stream",
          "name": "stdout",
          "text": [
            "The time is 11:45 PM\n",
            "the ratio of minutes to hours: 1.9565217391304348\n",
            "The input hours should be less than 24\n",
            "the ratio of minutes to hours: 1.4705882352941178\n",
            "The time is 0:34 PM\n",
            "the ratio of minutes to hours: 2.8333333333333335\n",
            "The input minutes should be less than 60\n",
            "the ratio of minutes to hours: 4.785714285714286\n",
            "The time is 7:20 PM\n",
            "the ratio of minutes to hours: 1.0526315789473684\n",
            "The time is 2:15 AM\n",
            "the ratio of minutes to hours: 7.5\n",
            "The time is 0:10 AM\n",
            "division by zero is not allowed\n"
          ]
        }
      ],
      "source": [
        "# Check for few sample inputs of hours and mins\n",
        "hour_min_list = [(23,45), (34,50), (12,34), (14,67),(19,20), (2,15), (0, 10)]\n",
        "for hrs,mins in hour_min_list:\n",
        " Time1 = Time(hours = hrs,minutes = mins)\n",
        " Time1.DisplayTime()\n",
        " Time1.DisplayRatio()\n"
      ]
    }
  ],
  "metadata": {
    "colab": {
      "provenance": [],
      "collapsed_sections": [
        "rATVcbDa2pY_",
        "dCSH8MhBRTW7",
        "AzbS5w7QB28m",
        "hw_eQmfUo8Ma",
        "AaQqED-gt1Ij",
        "B80a_pgbGRll",
        "gklgsrl6kIW8",
        "9PNEVRVaIfLS",
        "Q5d2ryJwIrH9",
        "gjRKFGWFIrPu",
        "W80MJEP4IrWl",
        "HC2V6Rf0Ircs",
        "Ym0esuHoIriH"
      ],
      "include_colab_link": true
    },
    "kernelspec": {
      "display_name": "Python 3",
      "name": "python3"
    },
    "language_info": {
      "name": "python"
    }
  },
  "nbformat": 4,
  "nbformat_minor": 0
}